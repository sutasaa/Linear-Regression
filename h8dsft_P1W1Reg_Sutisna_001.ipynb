{
 "cells": [
  {
   "cell_type": "markdown",
   "id": "5f42ac1d",
   "metadata": {},
   "source": [
    "# PERKENALAN"
   ]
  },
  {
   "cell_type": "markdown",
   "id": "2676e5b7",
   "metadata": {},
   "source": [
    "Grade Challenge 1 submission oleh Sutisna\n",
    "\n",
    "Dibuat guna mengevaluasi pembelajaran pada Hacktiv8 Data Science Fulltime Program khususnya pada konsep Regression.\n",
    "\n",
    "Unduh dataset yang akan digunakan disini: berisi data rideshare dari uber dan lyft\n",
    "\n",
    "https://www.kaggle.com/brllrb/uber-and-lyft-dataset-boston-ma?select=rideshare_kaggle.csv\n",
    "\n",
    "Objective: kita akan melakukan prediksi harga (price) dengan menggunakan konsep linear regression"
   ]
  },
  {
   "cell_type": "markdown",
   "id": "ae58540a",
   "metadata": {},
   "source": [
    "# IMPORT PUSTAKA"
   ]
  },
  {
   "cell_type": "code",
   "execution_count": 127,
   "id": "c69d4bf3",
   "metadata": {},
   "outputs": [],
   "source": [
    "import pandas as pd\n",
    "import numpy as np\n",
    "import seaborn as sns\n",
    "import matplotlib.pyplot as plt\n",
    "import statsmodels.api as sm\n",
    "from statsmodels.api import OLS\n",
    "from sklearn.model_selection import train_test_split\n",
    "from sklearn.metrics import mean_squared_error\n",
    "from sklearn.metrics import make_scorer,mean_squared_error,accuracy_score\n",
    "from sklearn.linear_model import LinearRegression"
   ]
  },
  {
   "cell_type": "markdown",
   "id": "e7b11b09",
   "metadata": {},
   "source": [
    "# DATA LOADING"
   ]
  },
  {
   "cell_type": "code",
   "execution_count": 128,
   "id": "2b9ab587",
   "metadata": {},
   "outputs": [],
   "source": [
    "df = pd.read_csv('rideshare_kaggle.csv')"
   ]
  },
  {
   "cell_type": "code",
   "execution_count": 129,
   "id": "07458d23",
   "metadata": {},
   "outputs": [
    {
     "data": {
      "text/html": [
       "<div>\n",
       "<style scoped>\n",
       "    .dataframe tbody tr th:only-of-type {\n",
       "        vertical-align: middle;\n",
       "    }\n",
       "\n",
       "    .dataframe tbody tr th {\n",
       "        vertical-align: top;\n",
       "    }\n",
       "\n",
       "    .dataframe thead th {\n",
       "        text-align: right;\n",
       "    }\n",
       "</style>\n",
       "<table border=\"1\" class=\"dataframe\">\n",
       "  <thead>\n",
       "    <tr style=\"text-align: right;\">\n",
       "      <th></th>\n",
       "      <th>id</th>\n",
       "      <th>timestamp</th>\n",
       "      <th>hour</th>\n",
       "      <th>day</th>\n",
       "      <th>month</th>\n",
       "      <th>datetime</th>\n",
       "      <th>timezone</th>\n",
       "      <th>source</th>\n",
       "      <th>destination</th>\n",
       "      <th>cab_type</th>\n",
       "      <th>...</th>\n",
       "      <th>precipIntensityMax</th>\n",
       "      <th>uvIndexTime</th>\n",
       "      <th>temperatureMin</th>\n",
       "      <th>temperatureMinTime</th>\n",
       "      <th>temperatureMax</th>\n",
       "      <th>temperatureMaxTime</th>\n",
       "      <th>apparentTemperatureMin</th>\n",
       "      <th>apparentTemperatureMinTime</th>\n",
       "      <th>apparentTemperatureMax</th>\n",
       "      <th>apparentTemperatureMaxTime</th>\n",
       "    </tr>\n",
       "  </thead>\n",
       "  <tbody>\n",
       "    <tr>\n",
       "      <th>0</th>\n",
       "      <td>424553bb-7174-41ea-aeb4-fe06d4f4b9d7</td>\n",
       "      <td>1.544953e+09</td>\n",
       "      <td>9</td>\n",
       "      <td>16</td>\n",
       "      <td>12</td>\n",
       "      <td>2018-12-16 09:30:07</td>\n",
       "      <td>America/New_York</td>\n",
       "      <td>Haymarket Square</td>\n",
       "      <td>North Station</td>\n",
       "      <td>Lyft</td>\n",
       "      <td>...</td>\n",
       "      <td>0.1276</td>\n",
       "      <td>1544979600</td>\n",
       "      <td>39.89</td>\n",
       "      <td>1545012000</td>\n",
       "      <td>43.68</td>\n",
       "      <td>1544968800</td>\n",
       "      <td>33.73</td>\n",
       "      <td>1545012000</td>\n",
       "      <td>38.07</td>\n",
       "      <td>1544958000</td>\n",
       "    </tr>\n",
       "    <tr>\n",
       "      <th>1</th>\n",
       "      <td>4bd23055-6827-41c6-b23b-3c491f24e74d</td>\n",
       "      <td>1.543284e+09</td>\n",
       "      <td>2</td>\n",
       "      <td>27</td>\n",
       "      <td>11</td>\n",
       "      <td>2018-11-27 02:00:23</td>\n",
       "      <td>America/New_York</td>\n",
       "      <td>Haymarket Square</td>\n",
       "      <td>North Station</td>\n",
       "      <td>Lyft</td>\n",
       "      <td>...</td>\n",
       "      <td>0.1300</td>\n",
       "      <td>1543251600</td>\n",
       "      <td>40.49</td>\n",
       "      <td>1543233600</td>\n",
       "      <td>47.30</td>\n",
       "      <td>1543251600</td>\n",
       "      <td>36.20</td>\n",
       "      <td>1543291200</td>\n",
       "      <td>43.92</td>\n",
       "      <td>1543251600</td>\n",
       "    </tr>\n",
       "    <tr>\n",
       "      <th>2</th>\n",
       "      <td>981a3613-77af-4620-a42a-0c0866077d1e</td>\n",
       "      <td>1.543367e+09</td>\n",
       "      <td>1</td>\n",
       "      <td>28</td>\n",
       "      <td>11</td>\n",
       "      <td>2018-11-28 01:00:22</td>\n",
       "      <td>America/New_York</td>\n",
       "      <td>Haymarket Square</td>\n",
       "      <td>North Station</td>\n",
       "      <td>Lyft</td>\n",
       "      <td>...</td>\n",
       "      <td>0.1064</td>\n",
       "      <td>1543338000</td>\n",
       "      <td>35.36</td>\n",
       "      <td>1543377600</td>\n",
       "      <td>47.55</td>\n",
       "      <td>1543320000</td>\n",
       "      <td>31.04</td>\n",
       "      <td>1543377600</td>\n",
       "      <td>44.12</td>\n",
       "      <td>1543320000</td>\n",
       "    </tr>\n",
       "    <tr>\n",
       "      <th>3</th>\n",
       "      <td>c2d88af2-d278-4bfd-a8d0-29ca77cc5512</td>\n",
       "      <td>1.543554e+09</td>\n",
       "      <td>4</td>\n",
       "      <td>30</td>\n",
       "      <td>11</td>\n",
       "      <td>2018-11-30 04:53:02</td>\n",
       "      <td>America/New_York</td>\n",
       "      <td>Haymarket Square</td>\n",
       "      <td>North Station</td>\n",
       "      <td>Lyft</td>\n",
       "      <td>...</td>\n",
       "      <td>0.0000</td>\n",
       "      <td>1543507200</td>\n",
       "      <td>34.67</td>\n",
       "      <td>1543550400</td>\n",
       "      <td>45.03</td>\n",
       "      <td>1543510800</td>\n",
       "      <td>30.30</td>\n",
       "      <td>1543550400</td>\n",
       "      <td>38.53</td>\n",
       "      <td>1543510800</td>\n",
       "    </tr>\n",
       "    <tr>\n",
       "      <th>4</th>\n",
       "      <td>e0126e1f-8ca9-4f2e-82b3-50505a09db9a</td>\n",
       "      <td>1.543463e+09</td>\n",
       "      <td>3</td>\n",
       "      <td>29</td>\n",
       "      <td>11</td>\n",
       "      <td>2018-11-29 03:49:20</td>\n",
       "      <td>America/New_York</td>\n",
       "      <td>Haymarket Square</td>\n",
       "      <td>North Station</td>\n",
       "      <td>Lyft</td>\n",
       "      <td>...</td>\n",
       "      <td>0.0001</td>\n",
       "      <td>1543420800</td>\n",
       "      <td>33.10</td>\n",
       "      <td>1543402800</td>\n",
       "      <td>42.18</td>\n",
       "      <td>1543420800</td>\n",
       "      <td>29.11</td>\n",
       "      <td>1543392000</td>\n",
       "      <td>35.75</td>\n",
       "      <td>1543420800</td>\n",
       "    </tr>\n",
       "  </tbody>\n",
       "</table>\n",
       "<p>5 rows × 57 columns</p>\n",
       "</div>"
      ],
      "text/plain": [
       "                                     id     timestamp  hour  day  month  \\\n",
       "0  424553bb-7174-41ea-aeb4-fe06d4f4b9d7  1.544953e+09     9   16     12   \n",
       "1  4bd23055-6827-41c6-b23b-3c491f24e74d  1.543284e+09     2   27     11   \n",
       "2  981a3613-77af-4620-a42a-0c0866077d1e  1.543367e+09     1   28     11   \n",
       "3  c2d88af2-d278-4bfd-a8d0-29ca77cc5512  1.543554e+09     4   30     11   \n",
       "4  e0126e1f-8ca9-4f2e-82b3-50505a09db9a  1.543463e+09     3   29     11   \n",
       "\n",
       "              datetime          timezone            source    destination  \\\n",
       "0  2018-12-16 09:30:07  America/New_York  Haymarket Square  North Station   \n",
       "1  2018-11-27 02:00:23  America/New_York  Haymarket Square  North Station   \n",
       "2  2018-11-28 01:00:22  America/New_York  Haymarket Square  North Station   \n",
       "3  2018-11-30 04:53:02  America/New_York  Haymarket Square  North Station   \n",
       "4  2018-11-29 03:49:20  America/New_York  Haymarket Square  North Station   \n",
       "\n",
       "  cab_type  ... precipIntensityMax uvIndexTime  temperatureMin  \\\n",
       "0     Lyft  ...             0.1276  1544979600           39.89   \n",
       "1     Lyft  ...             0.1300  1543251600           40.49   \n",
       "2     Lyft  ...             0.1064  1543338000           35.36   \n",
       "3     Lyft  ...             0.0000  1543507200           34.67   \n",
       "4     Lyft  ...             0.0001  1543420800           33.10   \n",
       "\n",
       "   temperatureMinTime  temperatureMax  temperatureMaxTime  \\\n",
       "0          1545012000           43.68          1544968800   \n",
       "1          1543233600           47.30          1543251600   \n",
       "2          1543377600           47.55          1543320000   \n",
       "3          1543550400           45.03          1543510800   \n",
       "4          1543402800           42.18          1543420800   \n",
       "\n",
       "   apparentTemperatureMin  apparentTemperatureMinTime  apparentTemperatureMax  \\\n",
       "0                   33.73                  1545012000                   38.07   \n",
       "1                   36.20                  1543291200                   43.92   \n",
       "2                   31.04                  1543377600                   44.12   \n",
       "3                   30.30                  1543550400                   38.53   \n",
       "4                   29.11                  1543392000                   35.75   \n",
       "\n",
       "  apparentTemperatureMaxTime  \n",
       "0                 1544958000  \n",
       "1                 1543251600  \n",
       "2                 1543320000  \n",
       "3                 1543510800  \n",
       "4                 1543420800  \n",
       "\n",
       "[5 rows x 57 columns]"
      ]
     },
     "execution_count": 129,
     "metadata": {},
     "output_type": "execute_result"
    }
   ],
   "source": [
    "df.head(5)"
   ]
  },
  {
   "cell_type": "code",
   "execution_count": 130,
   "id": "d7379c36",
   "metadata": {},
   "outputs": [
    {
     "name": "stdout",
     "output_type": "stream",
     "text": [
      "<class 'pandas.core.frame.DataFrame'>\n",
      "RangeIndex: 693071 entries, 0 to 693070\n",
      "Data columns (total 57 columns):\n",
      " #   Column                       Non-Null Count   Dtype  \n",
      "---  ------                       --------------   -----  \n",
      " 0   id                           693071 non-null  object \n",
      " 1   timestamp                    693071 non-null  float64\n",
      " 2   hour                         693071 non-null  int64  \n",
      " 3   day                          693071 non-null  int64  \n",
      " 4   month                        693071 non-null  int64  \n",
      " 5   datetime                     693071 non-null  object \n",
      " 6   timezone                     693071 non-null  object \n",
      " 7   source                       693071 non-null  object \n",
      " 8   destination                  693071 non-null  object \n",
      " 9   cab_type                     693071 non-null  object \n",
      " 10  product_id                   693071 non-null  object \n",
      " 11  name                         693071 non-null  object \n",
      " 12  price                        637976 non-null  float64\n",
      " 13  distance                     693071 non-null  float64\n",
      " 14  surge_multiplier             693071 non-null  float64\n",
      " 15  latitude                     693071 non-null  float64\n",
      " 16  longitude                    693071 non-null  float64\n",
      " 17  temperature                  693071 non-null  float64\n",
      " 18  apparentTemperature          693071 non-null  float64\n",
      " 19  short_summary                693071 non-null  object \n",
      " 20  long_summary                 693071 non-null  object \n",
      " 21  precipIntensity              693071 non-null  float64\n",
      " 22  precipProbability            693071 non-null  float64\n",
      " 23  humidity                     693071 non-null  float64\n",
      " 24  windSpeed                    693071 non-null  float64\n",
      " 25  windGust                     693071 non-null  float64\n",
      " 26  windGustTime                 693071 non-null  int64  \n",
      " 27  visibility                   693071 non-null  float64\n",
      " 28  temperatureHigh              693071 non-null  float64\n",
      " 29  temperatureHighTime          693071 non-null  int64  \n",
      " 30  temperatureLow               693071 non-null  float64\n",
      " 31  temperatureLowTime           693071 non-null  int64  \n",
      " 32  apparentTemperatureHigh      693071 non-null  float64\n",
      " 33  apparentTemperatureHighTime  693071 non-null  int64  \n",
      " 34  apparentTemperatureLow       693071 non-null  float64\n",
      " 35  apparentTemperatureLowTime   693071 non-null  int64  \n",
      " 36  icon                         693071 non-null  object \n",
      " 37  dewPoint                     693071 non-null  float64\n",
      " 38  pressure                     693071 non-null  float64\n",
      " 39  windBearing                  693071 non-null  int64  \n",
      " 40  cloudCover                   693071 non-null  float64\n",
      " 41  uvIndex                      693071 non-null  int64  \n",
      " 42  visibility.1                 693071 non-null  float64\n",
      " 43  ozone                        693071 non-null  float64\n",
      " 44  sunriseTime                  693071 non-null  int64  \n",
      " 45  sunsetTime                   693071 non-null  int64  \n",
      " 46  moonPhase                    693071 non-null  float64\n",
      " 47  precipIntensityMax           693071 non-null  float64\n",
      " 48  uvIndexTime                  693071 non-null  int64  \n",
      " 49  temperatureMin               693071 non-null  float64\n",
      " 50  temperatureMinTime           693071 non-null  int64  \n",
      " 51  temperatureMax               693071 non-null  float64\n",
      " 52  temperatureMaxTime           693071 non-null  int64  \n",
      " 53  apparentTemperatureMin       693071 non-null  float64\n",
      " 54  apparentTemperatureMinTime   693071 non-null  int64  \n",
      " 55  apparentTemperatureMax       693071 non-null  float64\n",
      " 56  apparentTemperatureMaxTime   693071 non-null  int64  \n",
      "dtypes: float64(29), int64(17), object(11)\n",
      "memory usage: 301.4+ MB\n"
     ]
    }
   ],
   "source": [
    "df.info()"
   ]
  },
  {
   "cell_type": "markdown",
   "id": "35e7bad3",
   "metadata": {},
   "source": [
    "# DATA CLEANING"
   ]
  },
  {
   "cell_type": "markdown",
   "id": "908bd831",
   "metadata": {},
   "source": [
    "Delete kolom 'timezone' karena mempunyai isi yang sama. dan kolom 'datetime'"
   ]
  },
  {
   "cell_type": "code",
   "execution_count": 131,
   "id": "52261cd2",
   "metadata": {},
   "outputs": [],
   "source": [
    "df = df.drop('timezone', axis=1)"
   ]
  },
  {
   "cell_type": "code",
   "execution_count": 132,
   "id": "3562371d",
   "metadata": {},
   "outputs": [],
   "source": [
    "df = df.drop('datetime', axis=1)"
   ]
  },
  {
   "cell_type": "markdown",
   "id": "e108ee59",
   "metadata": {},
   "source": [
    "kita akan menghitung persentase jumlah null untuk setiap kolom "
   ]
  },
  {
   "cell_type": "code",
   "execution_count": 133,
   "id": "53a0648e",
   "metadata": {},
   "outputs": [
    {
     "data": {
      "text/plain": [
       "id                             7.949402\n",
       "timestamp                      7.949402\n",
       "hour                           7.949402\n",
       "day                            7.949402\n",
       "month                          7.949402\n",
       "source                         7.949402\n",
       "destination                    7.949402\n",
       "cab_type                       7.949402\n",
       "product_id                     7.949402\n",
       "name                           7.949402\n",
       "price                          8.635905\n",
       "distance                       7.949402\n",
       "surge_multiplier               7.949402\n",
       "latitude                       7.949402\n",
       "longitude                      7.949402\n",
       "temperature                    7.949402\n",
       "apparentTemperature            7.949402\n",
       "short_summary                  7.949402\n",
       "long_summary                   7.949402\n",
       "precipIntensity                7.949402\n",
       "precipProbability              7.949402\n",
       "humidity                       7.949402\n",
       "windSpeed                      7.949402\n",
       "windGust                       7.949402\n",
       "windGustTime                   7.949402\n",
       "visibility                     7.949402\n",
       "temperatureHigh                7.949402\n",
       "temperatureHighTime            7.949402\n",
       "temperatureLow                 7.949402\n",
       "temperatureLowTime             7.949402\n",
       "apparentTemperatureHigh        7.949402\n",
       "apparentTemperatureHighTime    7.949402\n",
       "apparentTemperatureLow         7.949402\n",
       "apparentTemperatureLowTime     7.949402\n",
       "icon                           7.949402\n",
       "dewPoint                       7.949402\n",
       "pressure                       7.949402\n",
       "windBearing                    7.949402\n",
       "cloudCover                     7.949402\n",
       "uvIndex                        7.949402\n",
       "visibility.1                   7.949402\n",
       "ozone                          7.949402\n",
       "sunriseTime                    7.949402\n",
       "sunsetTime                     7.949402\n",
       "moonPhase                      7.949402\n",
       "precipIntensityMax             7.949402\n",
       "uvIndexTime                    7.949402\n",
       "temperatureMin                 7.949402\n",
       "temperatureMinTime             7.949402\n",
       "temperatureMax                 7.949402\n",
       "temperatureMaxTime             7.949402\n",
       "apparentTemperatureMin         7.949402\n",
       "apparentTemperatureMinTime     7.949402\n",
       "apparentTemperatureMax         7.949402\n",
       "apparentTemperatureMaxTime     7.949402\n",
       "dtype: float64"
      ]
     },
     "execution_count": 133,
     "metadata": {},
     "output_type": "execute_result"
    }
   ],
   "source": [
    "df.isnull().sum().sum()/(df.count())*100"
   ]
  },
  {
   "cell_type": "markdown",
   "id": "85707db6",
   "metadata": {},
   "source": [
    "Dikarenakan persentase nilai na kurang dari 8%, maka bisa kita hilangkan nilai-nilai tersebut tanpa kehilangan informasi yang penting."
   ]
  },
  {
   "cell_type": "code",
   "execution_count": 134,
   "id": "e32a80dd",
   "metadata": {},
   "outputs": [],
   "source": [
    "df = df.dropna()"
   ]
  },
  {
   "cell_type": "code",
   "execution_count": 135,
   "id": "bef65631",
   "metadata": {},
   "outputs": [
    {
     "data": {
      "text/plain": [
       "count                 637976\n",
       "unique                    12\n",
       "top       Financial District\n",
       "freq                   54197\n",
       "Name: source, dtype: object"
      ]
     },
     "execution_count": 135,
     "metadata": {},
     "output_type": "execute_result"
    }
   ],
   "source": [
    "df['source'].describe()"
   ]
  },
  {
   "cell_type": "code",
   "execution_count": 136,
   "id": "ad2869c5",
   "metadata": {},
   "outputs": [
    {
     "data": {
      "text/plain": [
       "count                 637976\n",
       "unique                    12\n",
       "top       Financial District\n",
       "freq                   54192\n",
       "Name: destination, dtype: object"
      ]
     },
     "execution_count": 136,
     "metadata": {},
     "output_type": "execute_result"
    }
   ],
   "source": [
    "df['destination'].describe()"
   ]
  },
  {
   "cell_type": "markdown",
   "id": "018fb6c9",
   "metadata": {},
   "source": [
    "Dikarenakan kolom 'product id' dan 'name' mempunyai informasi yang sama, maka kita akan hilangkan kolom product_id"
   ]
  },
  {
   "cell_type": "code",
   "execution_count": 137,
   "id": "d113cdbb",
   "metadata": {},
   "outputs": [],
   "source": [
    "df = df.drop('product_id', axis=1)"
   ]
  },
  {
   "cell_type": "markdown",
   "id": "be5447f6",
   "metadata": {},
   "source": [
    "# EXPLORASI DATA"
   ]
  },
  {
   "cell_type": "markdown",
   "id": "77065a89",
   "metadata": {},
   "source": [
    "Selanjutnya kita akan analisa setiap kolom dengan melihat grafiknya"
   ]
  },
  {
   "cell_type": "code",
   "execution_count": 138,
   "id": "f805b7e2",
   "metadata": {},
   "outputs": [
    {
     "data": {
      "text/plain": [
       "(array([2.69805e+05, 1.84912e+05, 1.30154e+05, 4.38570e+04, 7.21500e+03,\n",
       "        1.44000e+03, 4.08000e+02, 9.00000e+01, 7.30000e+01, 2.20000e+01]),\n",
       " array([ 2.5, 12. , 21.5, 31. , 40.5, 50. , 59.5, 69. , 78.5, 88. , 97.5]),\n",
       " <BarContainer object of 10 artists>)"
      ]
     },
     "execution_count": 138,
     "metadata": {},
     "output_type": "execute_result"
    },
    {
     "data": {
      "image/png": "[encoded data removed]",
      "text/plain": [
       "<Figure size 432x288 with 1 Axes>"
      ]
     },
     "metadata": {
      "needs_background": "light"
     },
     "output_type": "display_data"
    }
   ],
   "source": [
    "#Plot price (yang akan kita jadikan predictant)\n",
    "plt.hist(df['price'])"
   ]
  },
  {
   "cell_type": "markdown",
   "id": "fe15b2aa",
   "metadata": {},
   "source": [
    "Dapat dilihat bahwa grafik price adalah left skewed, tetapi dikarenakan price adalah variabel bergantung, maka tidak masalah"
   ]
  },
  {
   "cell_type": "code",
   "execution_count": 139,
   "id": "eefd4d8a",
   "metadata": {},
   "outputs": [
    {
     "data": {
      "text/plain": [
       "[Text(0, 0, ' Mostly Cloudy '),\n",
       " Text(1, 0, ' Rain '),\n",
       " Text(2, 0, ' Clear '),\n",
       " Text(3, 0, ' Partly Cloudy '),\n",
       " Text(4, 0, ' Overcast '),\n",
       " Text(5, 0, ' Light Rain '),\n",
       " Text(6, 0, ' Foggy '),\n",
       " Text(7, 0, ' Possible Drizzle '),\n",
       " Text(8, 0, ' Drizzle ')]"
      ]
     },
     "execution_count": 139,
     "metadata": {},
     "output_type": "execute_result"
    },
    {
     "data": {
      "image/png": "[encoded data removed]",
      "text/plain": [
       "<Figure size 432x288 with 1 Axes>"
      ]
     },
     "metadata": {
      "needs_background": "light"
     },
     "output_type": "display_data"
    }
   ],
   "source": [
    "#Grafik untuk tipe-tipe cuaca untuk short summary\n",
    "chart=sns.countplot(x='short_summary',data=df)        \n",
    "chart.set_xticklabels(chart.get_xticklabels(), rotation=45)"
   ]
  },
  {
   "cell_type": "code",
   "execution_count": 140,
   "id": "6efb4b60",
   "metadata": {},
   "outputs": [
    {
     "data": {
      "text/plain": [
       "[Text(0, 0, ' Rain throughout the day. '),\n",
       " Text(1, 0, ' Rain until morning, starting again in the evening. '),\n",
       " Text(2, 0, ' Light rain in the morning. '),\n",
       " Text(3, 0, ' Partly cloudy throughout the day. '),\n",
       " Text(4, 0, ' Mostly cloudy throughout the day. '),\n",
       " Text(5, 0, ' Light rain in the morning and overnight. '),\n",
       " Text(6, 0, ' Light rain until evening. '),\n",
       " Text(7, 0, ' Foggy in the morning. '),\n",
       " Text(8, 0, ' Overcast throughout the day. '),\n",
       " Text(9, 0, ' Possible drizzle in the morning. '),\n",
       " Text(10, 0, ' Rain in the morning and afternoon. ')]"
      ]
     },
     "execution_count": 140,
     "metadata": {},
     "output_type": "execute_result"
    },
    {
     "data": {
      "image/png": "[encoded data removed]",
      "text/plain": [
       "<Figure size 432x288 with 1 Axes>"
      ]
     },
     "metadata": {
      "needs_background": "light"
     },
     "output_type": "display_data"
    }
   ],
   "source": [
    "#Grafik untuk tipe-tipe cuaca untuk long summary\n",
    "chart1=sns.countplot(x='long_summary',data=df)        \n",
    "chart1.set_xticklabels(chart1.get_xticklabels(), rotation=45)"
   ]
  },
  {
   "cell_type": "markdown",
   "id": "090d292f",
   "metadata": {},
   "source": [
    "Grafik untuk source dan destination, dapat dilihat isinya hampir sama rata"
   ]
  },
  {
   "cell_type": "code",
   "execution_count": 141,
   "id": "5b7e7366",
   "metadata": {},
   "outputs": [
    {
     "data": {
      "text/plain": [
       "[Text(0, 0, 'North Station'),\n",
       " Text(1, 0, 'Northeastern University'),\n",
       " Text(2, 0, 'West End'),\n",
       " Text(3, 0, 'Haymarket Square'),\n",
       " Text(4, 0, 'South Station'),\n",
       " Text(5, 0, 'Fenway'),\n",
       " Text(6, 0, 'Theatre District'),\n",
       " Text(7, 0, 'Beacon Hill'),\n",
       " Text(8, 0, 'Back Bay'),\n",
       " Text(9, 0, 'North End'),\n",
       " Text(10, 0, 'Financial District'),\n",
       " Text(11, 0, 'Boston University')]"
      ]
     },
     "execution_count": 141,
     "metadata": {},
     "output_type": "execute_result"
    },
    {
     "data": {
      "image/png": "[encoded data removed]",
      "text/plain": [
       "<Figure size 432x288 with 1 Axes>"
      ]
     },
     "metadata": {
      "needs_background": "light"
     },
     "output_type": "display_data"
    }
   ],
   "source": [
    "chart0=sns.countplot(x='source',data=df)        \n",
    "chart0.set_xticklabels(chart0.get_xticklabels(), rotation=45)\n",
    "chart2=sns.countplot(x='destination',data=df)        \n",
    "chart2.set_xticklabels(chart2.get_xticklabels(), rotation=45)"
   ]
  },
  {
   "cell_type": "markdown",
   "id": "ac26dbc4",
   "metadata": {},
   "source": [
    "berikut grafik hour, dapat dilihat bahwa untuk grafik hour spike di jam malam 00:00, pagi 10:00, siang 15:00, malam 22:00"
   ]
  },
  {
   "cell_type": "code",
   "execution_count": 142,
   "id": "86ad288e",
   "metadata": {},
   "outputs": [
    {
     "data": {
      "text/plain": [
       "(array([82505., 51655., 48142., 71940., 55864., 55994., 83816., 56033.,\n",
       "        50030., 81997.]),\n",
       " array([ 0. ,  2.3,  4.6,  6.9,  9.2, 11.5, 13.8, 16.1, 18.4, 20.7, 23. ]),\n",
       " <BarContainer object of 10 artists>)"
      ]
     },
     "execution_count": 142,
     "metadata": {},
     "output_type": "execute_result"
    },
    {
     "data": {
      "image/png": "[encoded data removed]",
      "text/plain": [
       "<Figure size 432x288 with 1 Axes>"
      ]
     },
     "metadata": {
      "needs_background": "light"
     },
     "output_type": "display_data"
    }
   ],
   "source": [
    "plt.hist(df['hour'])"
   ]
  },
  {
   "cell_type": "markdown",
   "id": "ef916edd",
   "metadata": {},
   "source": [
    "Grafik cab type dan hour, dapat dilihat bahwa tidak banyak perbedaan untuk setiap jam antara uber dan lyft"
   ]
  },
  {
   "cell_type": "code",
   "execution_count": 143,
   "id": "be4e8ad2",
   "metadata": {},
   "outputs": [
    {
     "data": {
      "text/plain": [
       "<AxesSubplot:xlabel='hour', ylabel='count'>"
      ]
     },
     "execution_count": 143,
     "metadata": {},
     "output_type": "execute_result"
    },
    {
     "data": {
      "image/png": "[encoded data removed]",
      "text/plain": [
       "<Figure size 432x288 with 1 Axes>"
      ]
     },
     "metadata": {
      "needs_background": "light"
     },
     "output_type": "display_data"
    }
   ],
   "source": [
    "sns.countplot(x='hour',hue=\"cab_type\",data=df)"
   ]
  },
  {
   "cell_type": "markdown",
   "id": "0e9a8e6a",
   "metadata": {},
   "source": [
    "berikutnya kita plot berdasarkan hari, terlihat bahwa tanggal 9 dan 10 sangat kecil"
   ]
  },
  {
   "cell_type": "code",
   "execution_count": 144,
   "id": "66c3bec9",
   "metadata": {},
   "outputs": [
    {
     "data": {
      "text/plain": [
       "<AxesSubplot:xlabel='day', ylabel='count'>"
      ]
     },
     "execution_count": 144,
     "metadata": {},
     "output_type": "execute_result"
    },
    {
     "data": {
      "image/png": "[encoded data removed]",
      "text/plain": [
       "<Figure size 432x288 with 1 Axes>"
      ]
     },
     "metadata": {
      "needs_background": "light"
     },
     "output_type": "display_data"
    }
   ],
   "source": [
    "sns.countplot(x='day',hue=\"cab_type\",data=df)"
   ]
  },
  {
   "cell_type": "markdown",
   "id": "c4c3754b",
   "metadata": {},
   "source": [
    "grafik untuk bulan kalender, dapat dilihat bahwa mulai dari end Nov sampai dengan mid Dec transaksinya sedikit."
   ]
  },
  {
   "cell_type": "code",
   "execution_count": 145,
   "id": "ad5fde58",
   "metadata": {},
   "outputs": [
    {
     "data": {
      "text/plain": [
       "<AxesSubplot:xlabel='day', ylabel='count'>"
      ]
     },
     "execution_count": 145,
     "metadata": {},
     "output_type": "execute_result"
    },
    {
     "data": {
      "image/png": "[encoded data removed]",
      "text/plain": [
       "<Figure size 432x288 with 1 Axes>"
      ]
     },
     "metadata": {
      "needs_background": "light"
     },
     "output_type": "display_data"
    }
   ],
   "source": [
    "sns.countplot(x='day',hue=\"month\",data=df)"
   ]
  },
  {
   "cell_type": "markdown",
   "id": "3e188d12",
   "metadata": {},
   "source": [
    "Berikutnya kita akan membuang 2 kolom yaitu 'icon' (karena ada perbedaan antara icon dan short summary) dan kolom short summary (karena kita akan menggunakan kolom long summary)"
   ]
  },
  {
   "cell_type": "code",
   "execution_count": 146,
   "id": "ea2d2eda",
   "metadata": {},
   "outputs": [],
   "source": [
    "df=df.drop('icon', axis=1)\n",
    "df=df.drop('short_summary', axis=1)"
   ]
  },
  {
   "cell_type": "markdown",
   "id": "816aff18",
   "metadata": {},
   "source": [
    "Data terlihat di grafik dibawah ini, kolom price menyebar sepanjang waktu (hour)"
   ]
  },
  {
   "cell_type": "code",
   "execution_count": 147,
   "id": "d99f522a",
   "metadata": {},
   "outputs": [
    {
     "data": {
      "image/png": "[encoded data removed]",
      "text/plain": [
       "<Figure size 432x288 with 1 Axes>"
      ]
     },
     "metadata": {
      "needs_background": "light"
     },
     "output_type": "display_data"
    }
   ],
   "source": [
    "chart3=sns.scatterplot(x='hour',y='price',data=df)"
   ]
  },
  {
   "cell_type": "markdown",
   "id": "76140e3c",
   "metadata": {},
   "source": [
    "kita akan tetap menggunakan kategorik variabel, sehingga untuk latitude dan longitude akan kita hilangkan."
   ]
  },
  {
   "cell_type": "code",
   "execution_count": 148,
   "id": "224a941c",
   "metadata": {},
   "outputs": [],
   "source": [
    "df=df.drop('latitude', axis=1)\n",
    "df=df.drop('longitude', axis=1)"
   ]
  },
  {
   "cell_type": "markdown",
   "id": "c54f8d46",
   "metadata": {},
   "source": [
    "# DATA PREPROCESSING"
   ]
  },
  {
   "cell_type": "markdown",
   "id": "d70ecc31",
   "metadata": {},
   "source": [
    "Selanjutnya kita akan membagi kolom price ke dalam variabel y, dataframe yang tidak ada kolom price."
   ]
  },
  {
   "cell_type": "code",
   "execution_count": 149,
   "id": "7b85e549",
   "metadata": {},
   "outputs": [],
   "source": [
    "y=df['price']\n",
    "df=df.drop('price', axis=1)"
   ]
  },
  {
   "cell_type": "markdown",
   "id": "f975cdc1",
   "metadata": {},
   "source": [
    "Karena sudah ada kolom timestamp, maka kolom hour, day, dan month dapat kita hilangkan."
   ]
  },
  {
   "cell_type": "code",
   "execution_count": 150,
   "id": "9842fb3b",
   "metadata": {},
   "outputs": [],
   "source": [
    "df=df.drop(['hour','day','month'], axis=1)"
   ]
  },
  {
   "cell_type": "code",
   "execution_count": 151,
   "id": "60a463b8",
   "metadata": {},
   "outputs": [],
   "source": [
    "#set index\n",
    "df=df.set_index(df.columns[0])"
   ]
  },
  {
   "cell_type": "markdown",
   "id": "2ff2ae20",
   "metadata": {},
   "source": [
    "kita akan membuat dataframe untuk data dengan type object (categorical data)"
   ]
  },
  {
   "cell_type": "code",
   "execution_count": 152,
   "id": "cfe64b88",
   "metadata": {},
   "outputs": [
    {
     "data": {
      "text/html": [
       "<div>\n",
       "<style scoped>\n",
       "    .dataframe tbody tr th:only-of-type {\n",
       "        vertical-align: middle;\n",
       "    }\n",
       "\n",
       "    .dataframe tbody tr th {\n",
       "        vertical-align: top;\n",
       "    }\n",
       "\n",
       "    .dataframe thead th {\n",
       "        text-align: right;\n",
       "    }\n",
       "</style>\n",
       "<table border=\"1\" class=\"dataframe\">\n",
       "  <thead>\n",
       "    <tr style=\"text-align: right;\">\n",
       "      <th></th>\n",
       "      <th>source</th>\n",
       "      <th>destination</th>\n",
       "      <th>cab_type</th>\n",
       "      <th>name</th>\n",
       "      <th>long_summary</th>\n",
       "    </tr>\n",
       "    <tr>\n",
       "      <th>id</th>\n",
       "      <th></th>\n",
       "      <th></th>\n",
       "      <th></th>\n",
       "      <th></th>\n",
       "      <th></th>\n",
       "    </tr>\n",
       "  </thead>\n",
       "  <tbody>\n",
       "    <tr>\n",
       "      <th>424553bb-7174-41ea-aeb4-fe06d4f4b9d7</th>\n",
       "      <td>Haymarket Square</td>\n",
       "      <td>North Station</td>\n",
       "      <td>Lyft</td>\n",
       "      <td>Shared</td>\n",
       "      <td>Rain throughout the day.</td>\n",
       "    </tr>\n",
       "    <tr>\n",
       "      <th>4bd23055-6827-41c6-b23b-3c491f24e74d</th>\n",
       "      <td>Haymarket Square</td>\n",
       "      <td>North Station</td>\n",
       "      <td>Lyft</td>\n",
       "      <td>Lux</td>\n",
       "      <td>Rain until morning, starting again in the eve...</td>\n",
       "    </tr>\n",
       "    <tr>\n",
       "      <th>981a3613-77af-4620-a42a-0c0866077d1e</th>\n",
       "      <td>Haymarket Square</td>\n",
       "      <td>North Station</td>\n",
       "      <td>Lyft</td>\n",
       "      <td>Lyft</td>\n",
       "      <td>Light rain in the morning.</td>\n",
       "    </tr>\n",
       "    <tr>\n",
       "      <th>c2d88af2-d278-4bfd-a8d0-29ca77cc5512</th>\n",
       "      <td>Haymarket Square</td>\n",
       "      <td>North Station</td>\n",
       "      <td>Lyft</td>\n",
       "      <td>Lux Black XL</td>\n",
       "      <td>Partly cloudy throughout the day.</td>\n",
       "    </tr>\n",
       "    <tr>\n",
       "      <th>e0126e1f-8ca9-4f2e-82b3-50505a09db9a</th>\n",
       "      <td>Haymarket Square</td>\n",
       "      <td>North Station</td>\n",
       "      <td>Lyft</td>\n",
       "      <td>Lyft XL</td>\n",
       "      <td>Mostly cloudy throughout the day.</td>\n",
       "    </tr>\n",
       "  </tbody>\n",
       "</table>\n",
       "</div>"
      ],
      "text/plain": [
       "                                                source    destination  \\\n",
       "id                                                                      \n",
       "424553bb-7174-41ea-aeb4-fe06d4f4b9d7  Haymarket Square  North Station   \n",
       "4bd23055-6827-41c6-b23b-3c491f24e74d  Haymarket Square  North Station   \n",
       "981a3613-77af-4620-a42a-0c0866077d1e  Haymarket Square  North Station   \n",
       "c2d88af2-d278-4bfd-a8d0-29ca77cc5512  Haymarket Square  North Station   \n",
       "e0126e1f-8ca9-4f2e-82b3-50505a09db9a  Haymarket Square  North Station   \n",
       "\n",
       "                                     cab_type          name  \\\n",
       "id                                                            \n",
       "424553bb-7174-41ea-aeb4-fe06d4f4b9d7     Lyft        Shared   \n",
       "4bd23055-6827-41c6-b23b-3c491f24e74d     Lyft           Lux   \n",
       "981a3613-77af-4620-a42a-0c0866077d1e     Lyft          Lyft   \n",
       "c2d88af2-d278-4bfd-a8d0-29ca77cc5512     Lyft  Lux Black XL   \n",
       "e0126e1f-8ca9-4f2e-82b3-50505a09db9a     Lyft       Lyft XL   \n",
       "\n",
       "                                                                           long_summary  \n",
       "id                                                                                       \n",
       "424553bb-7174-41ea-aeb4-fe06d4f4b9d7                          Rain throughout the day.   \n",
       "4bd23055-6827-41c6-b23b-3c491f24e74d   Rain until morning, starting again in the eve...  \n",
       "981a3613-77af-4620-a42a-0c0866077d1e                        Light rain in the morning.   \n",
       "c2d88af2-d278-4bfd-a8d0-29ca77cc5512                 Partly cloudy throughout the day.   \n",
       "e0126e1f-8ca9-4f2e-82b3-50505a09db9a                 Mostly cloudy throughout the day.   "
      ]
     },
     "execution_count": 152,
     "metadata": {},
     "output_type": "execute_result"
    }
   ],
   "source": [
    "obj_df = df.select_dtypes(include=['object']).copy()\n",
    "obj_df.head(5)"
   ]
  },
  {
   "cell_type": "markdown",
   "id": "96f23c2a",
   "metadata": {},
   "source": [
    "membuat dummy variabel"
   ]
  },
  {
   "cell_type": "code",
   "execution_count": 153,
   "id": "057bf231",
   "metadata": {},
   "outputs": [],
   "source": [
    "dummy=pd.get_dummies(obj_df, columns=[\"source\", \"destination\",\"cab_type\",\"name\",\"long_summary\"], prefix=[\"start\", \"end\",\"cab\",\"type\",\"weather\"])"
   ]
  },
  {
   "cell_type": "markdown",
   "id": "701e787e",
   "metadata": {},
   "source": [
    "Selanjutnya kita akan mencopy dataframe yang berisi varibel non-weather."
   ]
  },
  {
   "cell_type": "code",
   "execution_count": 154,
   "id": "a53f2db8",
   "metadata": {},
   "outputs": [],
   "source": [
    "df1=df\n",
    "df.drop(df.iloc[:, 10:44], inplace = True, axis = 1)\n",
    "df1=df1.drop('apparentTemperatureMaxTime', axis=1)"
   ]
  },
  {
   "cell_type": "markdown",
   "id": "b74b229f",
   "metadata": {},
   "source": [
    "delete variabel kategorik, dikarenakan kita sudah membuat variabelnya."
   ]
  },
  {
   "cell_type": "code",
   "execution_count": 155,
   "id": "6070c127",
   "metadata": {},
   "outputs": [],
   "source": [
    "df1=df1.drop([\"source\", \"destination\",\"cab_type\",\"name\",\"long_summary\"], axis=1)"
   ]
  },
  {
   "cell_type": "markdown",
   "id": "18c1c0d0",
   "metadata": {},
   "source": [
    "berikutnya membuat dataframe yang terdiri dari dummy variabel dan variabel yang dipilih"
   ]
  },
  {
   "cell_type": "code",
   "execution_count": 156,
   "id": "ce145b1b",
   "metadata": {},
   "outputs": [],
   "source": [
    "df=pd.concat([df1,dummy], axis=1)"
   ]
  },
  {
   "cell_type": "markdown",
   "id": "ea714f02",
   "metadata": {},
   "source": [
    "# PENDEFINISIAN MODEL"
   ]
  },
  {
   "cell_type": "markdown",
   "id": "6e1ac161",
   "metadata": {},
   "source": [
    "Dikarenakan kita ingin prediksi variabel bergantung price (y) terhadap beberapa variabel independent. Maka kita akan menggunakan model linear regression "
   ]
  },
  {
   "cell_type": "markdown",
   "id": "d0f18a8f",
   "metadata": {},
   "source": [
    "# Pertama saya akan menggunakan library statsmodel.api untuk linear regressionnya."
   ]
  },
  {
   "cell_type": "markdown",
   "id": "e90840f3",
   "metadata": {},
   "source": [
    "Kita akan membagi datanya menjadi train dan test"
   ]
  },
  {
   "cell_type": "code",
   "execution_count": 157,
   "id": "13c9678b",
   "metadata": {},
   "outputs": [],
   "source": [
    "x_train, x_test, y_train, y_test = train_test_split(df,y,test_size=0.2,random_state=42)"
   ]
  },
  {
   "cell_type": "markdown",
   "id": "34a4a5a3",
   "metadata": {},
   "source": [
    "check mean untuk kita bandingkan dengan nilai MSE"
   ]
  },
  {
   "cell_type": "code",
   "execution_count": 158,
   "id": "f1a713f5",
   "metadata": {},
   "outputs": [
    {
     "data": {
      "text/plain": [
       "16.545125490614065"
      ]
     },
     "execution_count": 158,
     "metadata": {},
     "output_type": "execute_result"
    }
   ],
   "source": [
    "y.mean()"
   ]
  },
  {
   "cell_type": "code",
   "execution_count": 159,
   "id": "bf674b12",
   "metadata": {},
   "outputs": [],
   "source": [
    "y_train = list(y_train)\n",
    "y_test = list(y_test)"
   ]
  },
  {
   "cell_type": "markdown",
   "id": "98d2a855",
   "metadata": {},
   "source": [
    "Selanjutnya kita akan membuat Hypothesis sebagai berikut:\n",
    "\n",
    " H0 = nilai coefisien sama dengan nol\n",
    " \n",
    " H1 = nilai coefisien tidak sama dengan nol"
   ]
  },
  {
   "cell_type": "markdown",
   "id": "8b5c47f3",
   "metadata": {},
   "source": [
    "# PELATIHAN MODEL"
   ]
  },
  {
   "cell_type": "code",
   "execution_count": 160,
   "id": "6478133e",
   "metadata": {},
   "outputs": [],
   "source": [
    "model = sm.OLS(y_train,x_train).fit()\n",
    "predictions = model.predict(x_test)"
   ]
  },
  {
   "cell_type": "code",
   "execution_count": 161,
   "id": "3bbc77f6",
   "metadata": {},
   "outputs": [
    {
     "data": {
      "text/html": [
       "<table class=\"simpletable\">\n",
       "<caption>OLS Regression Results</caption>\n",
       "<tr>\n",
       "  <th>Dep. Variable:</th>            <td>y</td>        <th>  R-squared:         </th>  <td>   0.929</td>  \n",
       "</tr>\n",
       "<tr>\n",
       "  <th>Model:</th>                   <td>OLS</td>       <th>  Adj. R-squared:    </th>  <td>   0.929</td>  \n",
       "</tr>\n",
       "<tr>\n",
       "  <th>Method:</th>             <td>Least Squares</td>  <th>  F-statistic:       </th>  <td>1.412e+05</td> \n",
       "</tr>\n",
       "<tr>\n",
       "  <th>Date:</th>             <td>Fri, 30 Jul 2021</td> <th>  Prob (F-statistic):</th>   <td>  0.00</td>   \n",
       "</tr>\n",
       "<tr>\n",
       "  <th>Time:</th>                 <td>23:26:22</td>     <th>  Log-Likelihood:    </th> <td>-1.1900e+06</td>\n",
       "</tr>\n",
       "<tr>\n",
       "  <th>No. Observations:</th>      <td>510380</td>      <th>  AIC:               </th>  <td>2.380e+06</td> \n",
       "</tr>\n",
       "<tr>\n",
       "  <th>Df Residuals:</th>          <td>510332</td>      <th>  BIC:               </th>  <td>2.381e+06</td> \n",
       "</tr>\n",
       "<tr>\n",
       "  <th>Df Model:</th>              <td>    47</td>      <th>                     </th>      <td> </td>     \n",
       "</tr>\n",
       "<tr>\n",
       "  <th>Covariance Type:</th>      <td>nonrobust</td>    <th>                     </th>      <td> </td>     \n",
       "</tr>\n",
       "</table>\n",
       "<table class=\"simpletable\">\n",
       "<tr>\n",
       "                                <td></td>                                  <th>coef</th>     <th>std err</th>      <th>t</th>      <th>P>|t|</th>  <th>[0.025</th>    <th>0.975]</th>  \n",
       "</tr>\n",
       "<tr>\n",
       "  <th>timestamp</th>                                                    <td>-6.397e-10</td> <td> 5.96e-09</td> <td>   -0.107</td> <td> 0.915</td> <td>-1.23e-08</td> <td> 1.11e-08</td>\n",
       "</tr>\n",
       "<tr>\n",
       "  <th>distance</th>                                                     <td>    2.8871</td> <td>    0.004</td> <td>  720.655</td> <td> 0.000</td> <td>    2.879</td> <td>    2.895</td>\n",
       "</tr>\n",
       "<tr>\n",
       "  <th>surge_multiplier</th>                                             <td>   18.4367</td> <td>    0.037</td> <td>  491.949</td> <td> 0.000</td> <td>   18.363</td> <td>   18.510</td>\n",
       "</tr>\n",
       "<tr>\n",
       "  <th>temperature</th>                                                  <td>    0.0040</td> <td>    0.002</td> <td>    2.114</td> <td> 0.035</td> <td>    0.000</td> <td>    0.008</td>\n",
       "</tr>\n",
       "<tr>\n",
       "  <th>apparentTemperature</th>                                          <td>   -0.0035</td> <td>    0.002</td> <td>   -2.231</td> <td> 0.026</td> <td>   -0.006</td> <td>   -0.000</td>\n",
       "</tr>\n",
       "<tr>\n",
       "  <th>start_Back Bay</th>                                               <td>   -0.8795</td> <td>    0.913</td> <td>   -0.963</td> <td> 0.336</td> <td>   -2.670</td> <td>    0.911</td>\n",
       "</tr>\n",
       "<tr>\n",
       "  <th>start_Beacon Hill</th>                                            <td>   -1.2089</td> <td>    0.913</td> <td>   -1.324</td> <td> 0.186</td> <td>   -2.999</td> <td>    0.581</td>\n",
       "</tr>\n",
       "<tr>\n",
       "  <th>start_Boston University</th>                                      <td>   -1.0688</td> <td>    0.913</td> <td>   -1.170</td> <td> 0.242</td> <td>   -2.859</td> <td>    0.721</td>\n",
       "</tr>\n",
       "<tr>\n",
       "  <th>start_Fenway</th>                                                 <td>   -0.8690</td> <td>    0.913</td> <td>   -0.951</td> <td> 0.341</td> <td>   -2.659</td> <td>    0.921</td>\n",
       "</tr>\n",
       "<tr>\n",
       "  <th>start_Financial District</th>                                     <td>   -0.5336</td> <td>    0.913</td> <td>   -0.584</td> <td> 0.559</td> <td>   -2.324</td> <td>    1.257</td>\n",
       "</tr>\n",
       "<tr>\n",
       "  <th>start_Haymarket Square</th>                                       <td>   -0.4139</td> <td>    0.913</td> <td>   -0.453</td> <td> 0.650</td> <td>   -2.204</td> <td>    1.376</td>\n",
       "</tr>\n",
       "<tr>\n",
       "  <th>start_North End</th>                                              <td>   -0.2602</td> <td>    0.913</td> <td>   -0.285</td> <td> 0.776</td> <td>   -2.050</td> <td>    1.530</td>\n",
       "</tr>\n",
       "<tr>\n",
       "  <th>start_North Station</th>                                          <td>   -0.8113</td> <td>    0.913</td> <td>   -0.888</td> <td> 0.374</td> <td>   -2.601</td> <td>    0.979</td>\n",
       "</tr>\n",
       "<tr>\n",
       "  <th>start_Northeastern University</th>                                <td>   -1.1112</td> <td>    0.913</td> <td>   -1.217</td> <td> 0.224</td> <td>   -2.901</td> <td>    0.679</td>\n",
       "</tr>\n",
       "<tr>\n",
       "  <th>start_South Station</th>                                          <td>   -0.6163</td> <td>    0.913</td> <td>   -0.675</td> <td> 0.500</td> <td>   -2.406</td> <td>    1.174</td>\n",
       "</tr>\n",
       "<tr>\n",
       "  <th>start_Theatre District</th>                                       <td>   -0.3612</td> <td>    0.913</td> <td>   -0.395</td> <td> 0.692</td> <td>   -2.151</td> <td>    1.429</td>\n",
       "</tr>\n",
       "<tr>\n",
       "  <th>start_West End</th>                                               <td>   -0.8150</td> <td>    0.913</td> <td>   -0.892</td> <td> 0.372</td> <td>   -2.605</td> <td>    0.975</td>\n",
       "</tr>\n",
       "<tr>\n",
       "  <th>end_Back Bay</th>                                                 <td>   -0.8032</td> <td>    0.913</td> <td>   -0.879</td> <td> 0.379</td> <td>   -2.593</td> <td>    0.987</td>\n",
       "</tr>\n",
       "<tr>\n",
       "  <th>end_Beacon Hill</th>                                              <td>   -1.1159</td> <td>    0.913</td> <td>   -1.222</td> <td> 0.222</td> <td>   -2.906</td> <td>    0.674</td>\n",
       "</tr>\n",
       "<tr>\n",
       "  <th>end_Boston University</th>                                        <td>   -0.7679</td> <td>    0.913</td> <td>   -0.841</td> <td> 0.400</td> <td>   -2.558</td> <td>    1.022</td>\n",
       "</tr>\n",
       "<tr>\n",
       "  <th>end_Fenway</th>                                                   <td>   -1.0835</td> <td>    0.913</td> <td>   -1.186</td> <td> 0.236</td> <td>   -2.874</td> <td>    0.707</td>\n",
       "</tr>\n",
       "<tr>\n",
       "  <th>end_Financial District</th>                                       <td>   -0.4050</td> <td>    0.913</td> <td>   -0.443</td> <td> 0.658</td> <td>   -2.195</td> <td>    1.385</td>\n",
       "</tr>\n",
       "<tr>\n",
       "  <th>end_Haymarket Square</th>                                         <td>   -0.5479</td> <td>    0.913</td> <td>   -0.600</td> <td> 0.549</td> <td>   -2.338</td> <td>    1.242</td>\n",
       "</tr>\n",
       "<tr>\n",
       "  <th>end_North End</th>                                                <td>   -0.6802</td> <td>    0.913</td> <td>   -0.745</td> <td> 0.456</td> <td>   -2.470</td> <td>    1.110</td>\n",
       "</tr>\n",
       "<tr>\n",
       "  <th>end_North Station</th>                                            <td>   -0.6135</td> <td>    0.913</td> <td>   -0.672</td> <td> 0.502</td> <td>   -2.404</td> <td>    1.177</td>\n",
       "</tr>\n",
       "<tr>\n",
       "  <th>end_Northeastern University</th>                                  <td>   -0.7443</td> <td>    0.913</td> <td>   -0.815</td> <td> 0.415</td> <td>   -2.534</td> <td>    1.046</td>\n",
       "</tr>\n",
       "<tr>\n",
       "  <th>end_South Station</th>                                            <td>   -0.7857</td> <td>    0.913</td> <td>   -0.860</td> <td> 0.390</td> <td>   -2.576</td> <td>    1.004</td>\n",
       "</tr>\n",
       "<tr>\n",
       "  <th>end_Theatre District</th>                                         <td>   -0.5546</td> <td>    0.913</td> <td>   -0.607</td> <td> 0.544</td> <td>   -2.345</td> <td>    1.235</td>\n",
       "</tr>\n",
       "<tr>\n",
       "  <th>end_West End</th>                                                 <td>   -0.8472</td> <td>    0.913</td> <td>   -0.928</td> <td> 0.354</td> <td>   -2.637</td> <td>    0.943</td>\n",
       "</tr>\n",
       "<tr>\n",
       "  <th>cab_Lyft</th>                                                     <td>   -4.0509</td> <td>    5.480</td> <td>   -0.739</td> <td> 0.460</td> <td>  -14.791</td> <td>    6.689</td>\n",
       "</tr>\n",
       "<tr>\n",
       "  <th>cab_Uber</th>                                                     <td>   -4.8979</td> <td>    5.480</td> <td>   -0.894</td> <td> 0.371</td> <td>  -15.638</td> <td>    5.842</td>\n",
       "</tr>\n",
       "<tr>\n",
       "  <th>type_Black</th>                                                   <td>    3.9059</td> <td>    0.913</td> <td>    4.276</td> <td> 0.000</td> <td>    2.116</td> <td>    5.696</td>\n",
       "</tr>\n",
       "<tr>\n",
       "  <th>type_Black SUV</th>                                               <td>   13.6691</td> <td>    0.913</td> <td>   14.966</td> <td> 0.000</td> <td>   11.879</td> <td>   15.459</td>\n",
       "</tr>\n",
       "<tr>\n",
       "  <th>type_Lux</th>                                                     <td>   -0.3614</td> <td>    0.913</td> <td>   -0.396</td> <td> 0.692</td> <td>   -2.152</td> <td>    1.429</td>\n",
       "</tr>\n",
       "<tr>\n",
       "  <th>type_Lux Black</th>                                               <td>    4.9294</td> <td>    0.913</td> <td>    5.397</td> <td> 0.000</td> <td>    3.139</td> <td>    6.720</td>\n",
       "</tr>\n",
       "<tr>\n",
       "  <th>type_Lux Black XL</th>                                            <td>   14.1833</td> <td>    0.913</td> <td>   15.529</td> <td> 0.000</td> <td>   12.393</td> <td>   15.973</td>\n",
       "</tr>\n",
       "<tr>\n",
       "  <th>type_Lyft</th>                                                    <td>   -8.5446</td> <td>    0.913</td> <td>   -9.355</td> <td> 0.000</td> <td>  -10.335</td> <td>   -6.754</td>\n",
       "</tr>\n",
       "<tr>\n",
       "  <th>type_Lyft XL</th>                                                 <td>   -2.8379</td> <td>    0.913</td> <td>   -3.107</td> <td> 0.002</td> <td>   -4.628</td> <td>   -1.048</td>\n",
       "</tr>\n",
       "<tr>\n",
       "  <th>type_Shared</th>                                                  <td>  -11.4196</td> <td>    0.913</td> <td>  -12.503</td> <td> 0.000</td> <td>  -13.210</td> <td>   -9.629</td>\n",
       "</tr>\n",
       "<tr>\n",
       "  <th>type_UberPool</th>                                                <td>   -7.8549</td> <td>    0.913</td> <td>   -8.600</td> <td> 0.000</td> <td>   -9.645</td> <td>   -6.065</td>\n",
       "</tr>\n",
       "<tr>\n",
       "  <th>type_UberX</th>                                                   <td>   -6.8436</td> <td>    0.913</td> <td>   -7.493</td> <td> 0.000</td> <td>   -8.634</td> <td>   -5.053</td>\n",
       "</tr>\n",
       "<tr>\n",
       "  <th>type_UberXL</th>                                                  <td>   -0.9304</td> <td>    0.913</td> <td>   -1.019</td> <td> 0.308</td> <td>   -2.721</td> <td>    0.860</td>\n",
       "</tr>\n",
       "<tr>\n",
       "  <th>type_WAV</th>                                                     <td>   -6.8440</td> <td>    0.913</td> <td>   -7.493</td> <td> 0.000</td> <td>   -8.634</td> <td>   -5.054</td>\n",
       "</tr>\n",
       "<tr>\n",
       "  <th>weather_ Foggy in the morning. </th>                              <td>   -0.7898</td> <td>    0.997</td> <td>   -0.792</td> <td> 0.428</td> <td>   -2.743</td> <td>    1.164</td>\n",
       "</tr>\n",
       "<tr>\n",
       "  <th>weather_ Light rain in the morning and overnight. </th>           <td>   -0.7959</td> <td>    0.995</td> <td>   -0.800</td> <td> 0.424</td> <td>   -2.746</td> <td>    1.154</td>\n",
       "</tr>\n",
       "<tr>\n",
       "  <th>weather_ Light rain in the morning. </th>                         <td>   -0.8147</td> <td>    0.997</td> <td>   -0.817</td> <td> 0.414</td> <td>   -2.768</td> <td>    1.139</td>\n",
       "</tr>\n",
       "<tr>\n",
       "  <th>weather_ Light rain until evening. </th>                          <td>   -0.8008</td> <td>    0.996</td> <td>   -0.804</td> <td> 0.421</td> <td>   -2.752</td> <td>    1.151</td>\n",
       "</tr>\n",
       "<tr>\n",
       "  <th>weather_ Mostly cloudy throughout the day. </th>                  <td>   -0.8070</td> <td>    0.996</td> <td>   -0.810</td> <td> 0.418</td> <td>   -2.760</td> <td>    1.146</td>\n",
       "</tr>\n",
       "<tr>\n",
       "  <th>weather_ Overcast throughout the day. </th>                       <td>   -0.8846</td> <td>    0.994</td> <td>   -0.890</td> <td> 0.374</td> <td>   -2.834</td> <td>    1.064</td>\n",
       "</tr>\n",
       "<tr>\n",
       "  <th>weather_ Partly cloudy throughout the day. </th>                  <td>   -0.8046</td> <td>    0.998</td> <td>   -0.806</td> <td> 0.420</td> <td>   -2.760</td> <td>    1.151</td>\n",
       "</tr>\n",
       "<tr>\n",
       "  <th>weather_ Possible drizzle in the morning. </th>                   <td>   -0.9048</td> <td>    1.004</td> <td>   -0.901</td> <td> 0.368</td> <td>   -2.873</td> <td>    1.064</td>\n",
       "</tr>\n",
       "<tr>\n",
       "  <th>weather_ Rain in the morning and afternoon. </th>                 <td>   -0.7403</td> <td>    0.999</td> <td>   -0.741</td> <td> 0.459</td> <td>   -2.698</td> <td>    1.217</td>\n",
       "</tr>\n",
       "<tr>\n",
       "  <th>weather_ Rain throughout the day. </th>                           <td>   -0.7989</td> <td>    1.002</td> <td>   -0.798</td> <td> 0.425</td> <td>   -2.762</td> <td>    1.164</td>\n",
       "</tr>\n",
       "<tr>\n",
       "  <th>weather_ Rain until morning, starting again in the evening. </th> <td>   -0.8074</td> <td>    0.993</td> <td>   -0.813</td> <td> 0.416</td> <td>   -2.753</td> <td>    1.138</td>\n",
       "</tr>\n",
       "</table>\n",
       "<table class=\"simpletable\">\n",
       "<tr>\n",
       "  <th>Omnibus:</th>       <td>198277.874</td> <th>  Durbin-Watson:     </th>  <td>   1.999</td>  \n",
       "</tr>\n",
       "<tr>\n",
       "  <th>Prob(Omnibus):</th>   <td> 0.000</td>   <th>  Jarque-Bera (JB):  </th> <td>3808741.003</td>\n",
       "</tr>\n",
       "<tr>\n",
       "  <th>Skew:</th>            <td> 1.390</td>   <th>  Prob(JB):          </th>  <td>    0.00</td>  \n",
       "</tr>\n",
       "<tr>\n",
       "  <th>Kurtosis:</th>        <td>16.091</td>   <th>  Cond. No.          </th>  <td>3.14e+24</td>  \n",
       "</tr>\n",
       "</table><br/><br/>Notes:<br/>[1] Standard Errors assume that the covariance matrix of the errors is correctly specified.<br/>[2] The smallest eigenvalue is 1.23e-25. This might indicate that there are<br/>strong multicollinearity problems or that the design matrix is singular."
      ],
      "text/plain": [
       "<class 'statsmodels.iolib.summary.Summary'>\n",
       "\"\"\"\n",
       "                            OLS Regression Results                            \n",
       "==============================================================================\n",
       "Dep. Variable:                      y   R-squared:                       0.929\n",
       "Model:                            OLS   Adj. R-squared:                  0.929\n",
       "Method:                 Least Squares   F-statistic:                 1.412e+05\n",
       "Date:                Fri, 30 Jul 2021   Prob (F-statistic):               0.00\n",
       "Time:                        23:26:22   Log-Likelihood:            -1.1900e+06\n",
       "No. Observations:              510380   AIC:                         2.380e+06\n",
       "Df Residuals:                  510332   BIC:                         2.381e+06\n",
       "Df Model:                          47                                         \n",
       "Covariance Type:            nonrobust                                         \n",
       "================================================================================================================================\n",
       "                                                                   coef    std err          t      P>|t|      [0.025      0.975]\n",
       "--------------------------------------------------------------------------------------------------------------------------------\n",
       "timestamp                                                    -6.397e-10   5.96e-09     -0.107      0.915   -1.23e-08    1.11e-08\n",
       "distance                                                         2.8871      0.004    720.655      0.000       2.879       2.895\n",
       "surge_multiplier                                                18.4367      0.037    491.949      0.000      18.363      18.510\n",
       "temperature                                                      0.0040      0.002      2.114      0.035       0.000       0.008\n",
       "apparentTemperature                                             -0.0035      0.002     -2.231      0.026      -0.006      -0.000\n",
       "start_Back Bay                                                  -0.8795      0.913     -0.963      0.336      -2.670       0.911\n",
       "start_Beacon Hill                                               -1.2089      0.913     -1.324      0.186      -2.999       0.581\n",
       "start_Boston University                                         -1.0688      0.913     -1.170      0.242      -2.859       0.721\n",
       "start_Fenway                                                    -0.8690      0.913     -0.951      0.341      -2.659       0.921\n",
       "start_Financial District                                        -0.5336      0.913     -0.584      0.559      -2.324       1.257\n",
       "start_Haymarket Square                                          -0.4139      0.913     -0.453      0.650      -2.204       1.376\n",
       "start_North End                                                 -0.2602      0.913     -0.285      0.776      -2.050       1.530\n",
       "start_North Station                                             -0.8113      0.913     -0.888      0.374      -2.601       0.979\n",
       "start_Northeastern University                                   -1.1112      0.913     -1.217      0.224      -2.901       0.679\n",
       "start_South Station                                             -0.6163      0.913     -0.675      0.500      -2.406       1.174\n",
       "start_Theatre District                                          -0.3612      0.913     -0.395      0.692      -2.151       1.429\n",
       "start_West End                                                  -0.8150      0.913     -0.892      0.372      -2.605       0.975\n",
       "end_Back Bay                                                    -0.8032      0.913     -0.879      0.379      -2.593       0.987\n",
       "end_Beacon Hill                                                 -1.1159      0.913     -1.222      0.222      -2.906       0.674\n",
       "end_Boston University                                           -0.7679      0.913     -0.841      0.400      -2.558       1.022\n",
       "end_Fenway                                                      -1.0835      0.913     -1.186      0.236      -2.874       0.707\n",
       "end_Financial District                                          -0.4050      0.913     -0.443      0.658      -2.195       1.385\n",
       "end_Haymarket Square                                            -0.5479      0.913     -0.600      0.549      -2.338       1.242\n",
       "end_North End                                                   -0.6802      0.913     -0.745      0.456      -2.470       1.110\n",
       "end_North Station                                               -0.6135      0.913     -0.672      0.502      -2.404       1.177\n",
       "end_Northeastern University                                     -0.7443      0.913     -0.815      0.415      -2.534       1.046\n",
       "end_South Station                                               -0.7857      0.913     -0.860      0.390      -2.576       1.004\n",
       "end_Theatre District                                            -0.5546      0.913     -0.607      0.544      -2.345       1.235\n",
       "end_West End                                                    -0.8472      0.913     -0.928      0.354      -2.637       0.943\n",
       "cab_Lyft                                                        -4.0509      5.480     -0.739      0.460     -14.791       6.689\n",
       "cab_Uber                                                        -4.8979      5.480     -0.894      0.371     -15.638       5.842\n",
       "type_Black                                                       3.9059      0.913      4.276      0.000       2.116       5.696\n",
       "type_Black SUV                                                  13.6691      0.913     14.966      0.000      11.879      15.459\n",
       "type_Lux                                                        -0.3614      0.913     -0.396      0.692      -2.152       1.429\n",
       "type_Lux Black                                                   4.9294      0.913      5.397      0.000       3.139       6.720\n",
       "type_Lux Black XL                                               14.1833      0.913     15.529      0.000      12.393      15.973\n",
       "type_Lyft                                                       -8.5446      0.913     -9.355      0.000     -10.335      -6.754\n",
       "type_Lyft XL                                                    -2.8379      0.913     -3.107      0.002      -4.628      -1.048\n",
       "type_Shared                                                    -11.4196      0.913    -12.503      0.000     -13.210      -9.629\n",
       "type_UberPool                                                   -7.8549      0.913     -8.600      0.000      -9.645      -6.065\n",
       "type_UberX                                                      -6.8436      0.913     -7.493      0.000      -8.634      -5.053\n",
       "type_UberXL                                                     -0.9304      0.913     -1.019      0.308      -2.721       0.860\n",
       "type_WAV                                                        -6.8440      0.913     -7.493      0.000      -8.634      -5.054\n",
       "weather_ Foggy in the morning.                                  -0.7898      0.997     -0.792      0.428      -2.743       1.164\n",
       "weather_ Light rain in the morning and overnight.               -0.7959      0.995     -0.800      0.424      -2.746       1.154\n",
       "weather_ Light rain in the morning.                             -0.8147      0.997     -0.817      0.414      -2.768       1.139\n",
       "weather_ Light rain until evening.                              -0.8008      0.996     -0.804      0.421      -2.752       1.151\n",
       "weather_ Mostly cloudy throughout the day.                      -0.8070      0.996     -0.810      0.418      -2.760       1.146\n",
       "weather_ Overcast throughout the day.                           -0.8846      0.994     -0.890      0.374      -2.834       1.064\n",
       "weather_ Partly cloudy throughout the day.                      -0.8046      0.998     -0.806      0.420      -2.760       1.151\n",
       "weather_ Possible drizzle in the morning.                       -0.9048      1.004     -0.901      0.368      -2.873       1.064\n",
       "weather_ Rain in the morning and afternoon.                     -0.7403      0.999     -0.741      0.459      -2.698       1.217\n",
       "weather_ Rain throughout the day.                               -0.7989      1.002     -0.798      0.425      -2.762       1.164\n",
       "weather_ Rain until morning, starting again in the evening.     -0.8074      0.993     -0.813      0.416      -2.753       1.138\n",
       "==============================================================================\n",
       "Omnibus:                   198277.874   Durbin-Watson:                   1.999\n",
       "Prob(Omnibus):                  0.000   Jarque-Bera (JB):          3808741.003\n",
       "Skew:                           1.390   Prob(JB):                         0.00\n",
       "Kurtosis:                      16.091   Cond. No.                     3.14e+24\n",
       "==============================================================================\n",
       "\n",
       "Notes:\n",
       "[1] Standard Errors assume that the covariance matrix of the errors is correctly specified.\n",
       "[2] The smallest eigenvalue is 1.23e-25. This might indicate that there are\n",
       "strong multicollinearity problems or that the design matrix is singular.\n",
       "\"\"\""
      ]
     },
     "execution_count": 161,
     "metadata": {},
     "output_type": "execute_result"
    }
   ],
   "source": [
    "model.summary()"
   ]
  },
  {
   "cell_type": "markdown",
   "id": "c1546747",
   "metadata": {},
   "source": [
    "# Model Analysis"
   ]
  },
  {
   "cell_type": "markdown",
   "id": "7b948301",
   "metadata": {},
   "source": [
    "Dari summary diatas dapat kita simpulkan bahwa:\n",
    "1. timestamp mempunyai p-value yang tinggi\n",
    "2. Distance, surge multiplier, temperature, apparent temperature mempunyai p-values yang rendah (karenanya kolom-kolom significant.\n",
    "3. Locations start and stop mempunyai p-values yang tinggi (sehingga tidak significant)\n",
    "4. Type of cab also mempunyai p-value yang rendah, mengindikasikan significant kecuali untuk Lux SUV\n",
    "5. Cab name juga mempunyai p-value yang tinggi, mengindikasikan tidak ada perbedaan antara Uber dan Lyft\n",
    "6. Semua weather variabel  mempunyai p-value yang tinggi."
   ]
  },
  {
   "cell_type": "markdown",
   "id": "3081cbcf",
   "metadata": {},
   "source": [
    "# EVALUASI MODEL"
   ]
  },
  {
   "cell_type": "markdown",
   "id": "528f8b48",
   "metadata": {},
   "source": [
    "Kita akan menghilangkan semua kolom yang mempunyai p-value yang tinggi dan menggunakan kolom hour, day, month, kolom timestamp tidak kita gunakan. Kita akan membuat ulang dataframe dengan variabel yang penting dan menambahkan dummy variabel kedalamnya. "
   ]
  },
  {
   "cell_type": "code",
   "execution_count": 162,
   "id": "ac0ee4e9",
   "metadata": {},
   "outputs": [],
   "source": [
    "df = pd.read_csv('rideshare_kaggle.csv')\n",
    "df = df.set_index(df.columns[0])\n",
    "df = df.dropna()"
   ]
  },
  {
   "cell_type": "code",
   "execution_count": 163,
   "id": "beb32bc8",
   "metadata": {},
   "outputs": [],
   "source": [
    "df.drop(df.iloc[:, 18:55], inplace = True, axis = 1)\n",
    "df = df.drop(['price','latitude','longitude','apparentTemperatureMaxTime','timestamp','datetime','timezone','source','destination','cab_type','product_id','name'],axis=1)"
   ]
  },
  {
   "cell_type": "code",
   "execution_count": 164,
   "id": "abc7af8e",
   "metadata": {},
   "outputs": [],
   "source": [
    "df=pd.concat([df,dummy], axis=1)\n",
    "df.drop(df.iloc[:, 7:33], inplace = True, axis = 1)\n",
    "df.drop(df.iloc[:, 19:30], inplace = True, axis = 1)"
   ]
  },
  {
   "cell_type": "markdown",
   "id": "7ea0d801",
   "metadata": {},
   "source": [
    "Menambahkan dummy variabel yang sudah dibuat sebelumnya."
   ]
  },
  {
   "cell_type": "code",
   "execution_count": 165,
   "id": "f50605f4",
   "metadata": {},
   "outputs": [],
   "source": [
    "x_train, x_test, y_train, y_test = train_test_split(df,y,test_size=0.2,random_state=42)"
   ]
  },
  {
   "cell_type": "code",
   "execution_count": 166,
   "id": "2f6b5590",
   "metadata": {},
   "outputs": [],
   "source": [
    "y_train = list(y_train)\n",
    "y_test = list(y_test)"
   ]
  },
  {
   "cell_type": "code",
   "execution_count": 167,
   "id": "b4162c1a",
   "metadata": {},
   "outputs": [],
   "source": [
    "model = sm.OLS(y_train,x_train).fit()\n",
    "predictions = model.predict(x_test)"
   ]
  },
  {
   "cell_type": "code",
   "execution_count": 168,
   "id": "327342d2",
   "metadata": {},
   "outputs": [
    {
     "data": {
      "text/html": [
       "<table class=\"simpletable\">\n",
       "<caption>OLS Regression Results</caption>\n",
       "<tr>\n",
       "  <th>Dep. Variable:</th>            <td>y</td>        <th>  R-squared:         </th>  <td>   0.927</td>  \n",
       "</tr>\n",
       "<tr>\n",
       "  <th>Model:</th>                   <td>OLS</td>       <th>  Adj. R-squared:    </th>  <td>   0.927</td>  \n",
       "</tr>\n",
       "<tr>\n",
       "  <th>Method:</th>             <td>Least Squares</td>  <th>  F-statistic:       </th>  <td>3.613e+05</td> \n",
       "</tr>\n",
       "<tr>\n",
       "  <th>Date:</th>             <td>Fri, 30 Jul 2021</td> <th>  Prob (F-statistic):</th>   <td>  0.00</td>   \n",
       "</tr>\n",
       "<tr>\n",
       "  <th>Time:</th>                 <td>23:26:37</td>     <th>  Log-Likelihood:    </th> <td>-1.1948e+06</td>\n",
       "</tr>\n",
       "<tr>\n",
       "  <th>No. Observations:</th>      <td>510380</td>      <th>  AIC:               </th>  <td>2.390e+06</td> \n",
       "</tr>\n",
       "<tr>\n",
       "  <th>Df Residuals:</th>          <td>510361</td>      <th>  BIC:               </th>  <td>2.390e+06</td> \n",
       "</tr>\n",
       "<tr>\n",
       "  <th>Df Model:</th>              <td>    18</td>      <th>                     </th>      <td> </td>     \n",
       "</tr>\n",
       "<tr>\n",
       "  <th>Covariance Type:</th>      <td>nonrobust</td>    <th>                     </th>      <td> </td>     \n",
       "</tr>\n",
       "</table>\n",
       "<table class=\"simpletable\">\n",
       "<tr>\n",
       "           <td></td>              <th>coef</th>     <th>std err</th>      <th>t</th>      <th>P>|t|</th>  <th>[0.025</th>    <th>0.975]</th>  \n",
       "</tr>\n",
       "<tr>\n",
       "  <th>hour</th>                <td>    0.0003</td> <td>    0.001</td> <td>    0.638</td> <td> 0.523</td> <td>   -0.001</td> <td>    0.001</td>\n",
       "</tr>\n",
       "<tr>\n",
       "  <th>day</th>                 <td>   -0.0009</td> <td>    0.001</td> <td>   -1.137</td> <td> 0.256</td> <td>   -0.002</td> <td>    0.001</td>\n",
       "</tr>\n",
       "<tr>\n",
       "  <th>month</th>               <td>   -0.0061</td> <td>    0.015</td> <td>   -0.405</td> <td> 0.685</td> <td>   -0.035</td> <td>    0.023</td>\n",
       "</tr>\n",
       "<tr>\n",
       "  <th>distance</th>            <td>    2.7957</td> <td>    0.003</td> <td>  901.569</td> <td> 0.000</td> <td>    2.790</td> <td>    2.802</td>\n",
       "</tr>\n",
       "<tr>\n",
       "  <th>surge_multiplier</th>    <td>   18.3232</td> <td>    0.038</td> <td>  486.486</td> <td> 0.000</td> <td>   18.249</td> <td>   18.397</td>\n",
       "</tr>\n",
       "<tr>\n",
       "  <th>temperature</th>         <td>    0.0049</td> <td>    0.002</td> <td>    2.754</td> <td> 0.006</td> <td>    0.001</td> <td>    0.008</td>\n",
       "</tr>\n",
       "<tr>\n",
       "  <th>apparentTemperature</th> <td>   -0.0043</td> <td>    0.002</td> <td>   -2.782</td> <td> 0.005</td> <td>   -0.007</td> <td>   -0.001</td>\n",
       "</tr>\n",
       "<tr>\n",
       "  <th>type_Black</th>          <td>   -3.8850</td> <td>    0.196</td> <td>  -19.826</td> <td> 0.000</td> <td>   -4.269</td> <td>   -3.501</td>\n",
       "</tr>\n",
       "<tr>\n",
       "  <th>type_Black SUV</th>      <td>    5.8781</td> <td>    0.196</td> <td>   29.993</td> <td> 0.000</td> <td>    5.494</td> <td>    6.262</td>\n",
       "</tr>\n",
       "<tr>\n",
       "  <th>type_Lux</th>            <td>   -7.3006</td> <td>    0.196</td> <td>  -37.201</td> <td> 0.000</td> <td>   -7.685</td> <td>   -6.916</td>\n",
       "</tr>\n",
       "<tr>\n",
       "  <th>type_Lux Black</th>      <td>   -2.0101</td> <td>    0.196</td> <td>  -10.242</td> <td> 0.000</td> <td>   -2.395</td> <td>   -1.625</td>\n",
       "</tr>\n",
       "<tr>\n",
       "  <th>type_Lux Black XL</th>   <td>    7.2443</td> <td>    0.196</td> <td>   36.911</td> <td> 0.000</td> <td>    6.860</td> <td>    7.629</td>\n",
       "</tr>\n",
       "<tr>\n",
       "  <th>type_Lyft</th>           <td>  -15.4846</td> <td>    0.196</td> <td>  -78.897</td> <td> 0.000</td> <td>  -15.869</td> <td>  -15.100</td>\n",
       "</tr>\n",
       "<tr>\n",
       "  <th>type_Lyft XL</th>        <td>   -9.7768</td> <td>    0.196</td> <td>  -49.808</td> <td> 0.000</td> <td>  -10.162</td> <td>   -9.392</td>\n",
       "</tr>\n",
       "<tr>\n",
       "  <th>type_Shared</th>         <td>  -18.3642</td> <td>    0.196</td> <td>  -93.689</td> <td> 0.000</td> <td>  -18.748</td> <td>  -17.980</td>\n",
       "</tr>\n",
       "<tr>\n",
       "  <th>type_UberPool</th>       <td>  -15.6461</td> <td>    0.196</td> <td>  -79.832</td> <td> 0.000</td> <td>  -16.030</td> <td>  -15.262</td>\n",
       "</tr>\n",
       "<tr>\n",
       "  <th>type_UberX</th>          <td>  -14.6333</td> <td>    0.196</td> <td>  -74.663</td> <td> 0.000</td> <td>  -15.017</td> <td>  -14.249</td>\n",
       "</tr>\n",
       "<tr>\n",
       "  <th>type_UberXL</th>         <td>   -8.7207</td> <td>    0.196</td> <td>  -44.503</td> <td> 0.000</td> <td>   -9.105</td> <td>   -8.337</td>\n",
       "</tr>\n",
       "<tr>\n",
       "  <th>type_WAV</th>            <td>  -14.6355</td> <td>    0.196</td> <td>  -74.684</td> <td> 0.000</td> <td>  -15.020</td> <td>  -14.251</td>\n",
       "</tr>\n",
       "</table>\n",
       "<table class=\"simpletable\">\n",
       "<tr>\n",
       "  <th>Omnibus:</th>       <td>204367.593</td> <th>  Durbin-Watson:     </th>  <td>   2.000</td>  \n",
       "</tr>\n",
       "<tr>\n",
       "  <th>Prob(Omnibus):</th>   <td> 0.000</td>   <th>  Jarque-Bera (JB):  </th> <td>3727218.950</td>\n",
       "</tr>\n",
       "<tr>\n",
       "  <th>Skew:</th>            <td> 1.464</td>   <th>  Prob(JB):          </th>  <td>    0.00</td>  \n",
       "</tr>\n",
       "<tr>\n",
       "  <th>Kurtosis:</th>        <td>15.911</td>   <th>  Cond. No.          </th>  <td>1.15e+04</td>  \n",
       "</tr>\n",
       "</table><br/><br/>Notes:<br/>[1] Standard Errors assume that the covariance matrix of the errors is correctly specified.<br/>[2] The condition number is large, 1.15e+04. This might indicate that there are<br/>strong multicollinearity or other numerical problems."
      ],
      "text/plain": [
       "<class 'statsmodels.iolib.summary.Summary'>\n",
       "\"\"\"\n",
       "                            OLS Regression Results                            \n",
       "==============================================================================\n",
       "Dep. Variable:                      y   R-squared:                       0.927\n",
       "Model:                            OLS   Adj. R-squared:                  0.927\n",
       "Method:                 Least Squares   F-statistic:                 3.613e+05\n",
       "Date:                Fri, 30 Jul 2021   Prob (F-statistic):               0.00\n",
       "Time:                        23:26:37   Log-Likelihood:            -1.1948e+06\n",
       "No. Observations:              510380   AIC:                         2.390e+06\n",
       "Df Residuals:                  510361   BIC:                         2.390e+06\n",
       "Df Model:                          18                                         \n",
       "Covariance Type:            nonrobust                                         \n",
       "=======================================================================================\n",
       "                          coef    std err          t      P>|t|      [0.025      0.975]\n",
       "---------------------------------------------------------------------------------------\n",
       "hour                    0.0003      0.001      0.638      0.523      -0.001       0.001\n",
       "day                    -0.0009      0.001     -1.137      0.256      -0.002       0.001\n",
       "month                  -0.0061      0.015     -0.405      0.685      -0.035       0.023\n",
       "distance                2.7957      0.003    901.569      0.000       2.790       2.802\n",
       "surge_multiplier       18.3232      0.038    486.486      0.000      18.249      18.397\n",
       "temperature             0.0049      0.002      2.754      0.006       0.001       0.008\n",
       "apparentTemperature    -0.0043      0.002     -2.782      0.005      -0.007      -0.001\n",
       "type_Black             -3.8850      0.196    -19.826      0.000      -4.269      -3.501\n",
       "type_Black SUV          5.8781      0.196     29.993      0.000       5.494       6.262\n",
       "type_Lux               -7.3006      0.196    -37.201      0.000      -7.685      -6.916\n",
       "type_Lux Black         -2.0101      0.196    -10.242      0.000      -2.395      -1.625\n",
       "type_Lux Black XL       7.2443      0.196     36.911      0.000       6.860       7.629\n",
       "type_Lyft             -15.4846      0.196    -78.897      0.000     -15.869     -15.100\n",
       "type_Lyft XL           -9.7768      0.196    -49.808      0.000     -10.162      -9.392\n",
       "type_Shared           -18.3642      0.196    -93.689      0.000     -18.748     -17.980\n",
       "type_UberPool         -15.6461      0.196    -79.832      0.000     -16.030     -15.262\n",
       "type_UberX            -14.6333      0.196    -74.663      0.000     -15.017     -14.249\n",
       "type_UberXL            -8.7207      0.196    -44.503      0.000      -9.105      -8.337\n",
       "type_WAV              -14.6355      0.196    -74.684      0.000     -15.020     -14.251\n",
       "==============================================================================\n",
       "Omnibus:                   204367.593   Durbin-Watson:                   2.000\n",
       "Prob(Omnibus):                  0.000   Jarque-Bera (JB):          3727218.950\n",
       "Skew:                           1.464   Prob(JB):                         0.00\n",
       "Kurtosis:                      15.911   Cond. No.                     1.15e+04\n",
       "==============================================================================\n",
       "\n",
       "Notes:\n",
       "[1] Standard Errors assume that the covariance matrix of the errors is correctly specified.\n",
       "[2] The condition number is large, 1.15e+04. This might indicate that there are\n",
       "strong multicollinearity or other numerical problems.\n",
       "\"\"\""
      ]
     },
     "execution_count": 168,
     "metadata": {},
     "output_type": "execute_result"
    }
   ],
   "source": [
    "model.summary()"
   ]
  },
  {
   "cell_type": "markdown",
   "id": "af39b930",
   "metadata": {},
   "source": [
    "# Model Analysis"
   ]
  },
  {
   "cell_type": "markdown",
   "id": "b837b3e9",
   "metadata": {},
   "source": [
    "Dari Summary diatas dapat dilihat bahwa:\n",
    "1. kolom hour, day dan time tidak mempunyai efek ke persamaan\n",
    "2. Begitu juga dengan kolom temperature dan apparent temperature\n",
    "3. Sehingga harga argo hanya bergantung pada variabel distance, surge_multiplier dan type of cab."
   ]
  },
  {
   "cell_type": "markdown",
   "id": "8f16cceb",
   "metadata": {},
   "source": [
    "Kita akan menghilangkan kolom hour, day, month, temperature dan apparent temperature"
   ]
  },
  {
   "cell_type": "code",
   "execution_count": 169,
   "id": "89495476",
   "metadata": {},
   "outputs": [],
   "source": [
    "df.drop(df.iloc[:, 0:3], inplace = True, axis = 1)\n",
    "df=df.drop(['apparentTemperature','temperature'],axis = 1)"
   ]
  },
  {
   "cell_type": "markdown",
   "id": "38f88c8f",
   "metadata": {},
   "source": [
    "Kita akan menjalankan ulang modelnya."
   ]
  },
  {
   "cell_type": "code",
   "execution_count": 170,
   "id": "ac324572",
   "metadata": {},
   "outputs": [],
   "source": [
    "x_train, x_test, y_train, y_test = train_test_split(df,y,test_size=0.2,random_state=42)"
   ]
  },
  {
   "cell_type": "code",
   "execution_count": 171,
   "id": "ec7c0e77",
   "metadata": {},
   "outputs": [],
   "source": [
    "y_train = list(y_train)\n",
    "y_test = list(y_test)"
   ]
  },
  {
   "cell_type": "code",
   "execution_count": 172,
   "id": "2a4eef3c",
   "metadata": {},
   "outputs": [],
   "source": [
    "model = sm.OLS(y_train,x_train).fit()\n",
    "predictions = model.predict(x_test)"
   ]
  },
  {
   "cell_type": "code",
   "execution_count": 173,
   "id": "684b6164",
   "metadata": {},
   "outputs": [
    {
     "data": {
      "text/html": [
       "<table class=\"simpletable\">\n",
       "<caption>OLS Regression Results</caption>\n",
       "<tr>\n",
       "  <th>Dep. Variable:</th>            <td>y</td>        <th>  R-squared:         </th>  <td>   0.927</td>  \n",
       "</tr>\n",
       "<tr>\n",
       "  <th>Model:</th>                   <td>OLS</td>       <th>  Adj. R-squared:    </th>  <td>   0.927</td>  \n",
       "</tr>\n",
       "<tr>\n",
       "  <th>Method:</th>             <td>Least Squares</td>  <th>  F-statistic:       </th>  <td>5.003e+05</td> \n",
       "</tr>\n",
       "<tr>\n",
       "  <th>Date:</th>             <td>Fri, 30 Jul 2021</td> <th>  Prob (F-statistic):</th>   <td>  0.00</td>   \n",
       "</tr>\n",
       "<tr>\n",
       "  <th>Time:</th>                 <td>23:26:39</td>     <th>  Log-Likelihood:    </th> <td>-1.1948e+06</td>\n",
       "</tr>\n",
       "<tr>\n",
       "  <th>No. Observations:</th>      <td>510380</td>      <th>  AIC:               </th>  <td>2.390e+06</td> \n",
       "</tr>\n",
       "<tr>\n",
       "  <th>Df Residuals:</th>          <td>510366</td>      <th>  BIC:               </th>  <td>2.390e+06</td> \n",
       "</tr>\n",
       "<tr>\n",
       "  <th>Df Model:</th>              <td>    13</td>      <th>                     </th>      <td> </td>     \n",
       "</tr>\n",
       "<tr>\n",
       "  <th>Covariance Type:</th>      <td>nonrobust</td>    <th>                     </th>      <td> </td>     \n",
       "</tr>\n",
       "</table>\n",
       "<table class=\"simpletable\">\n",
       "<tr>\n",
       "          <td></td>             <th>coef</th>     <th>std err</th>      <th>t</th>      <th>P>|t|</th>  <th>[0.025</th>    <th>0.975]</th>  \n",
       "</tr>\n",
       "<tr>\n",
       "  <th>distance</th>          <td>    2.7957</td> <td>    0.003</td> <td>  901.590</td> <td> 0.000</td> <td>    2.790</td> <td>    2.802</td>\n",
       "</tr>\n",
       "<tr>\n",
       "  <th>surge_multiplier</th>  <td>   18.3234</td> <td>    0.038</td> <td>  486.495</td> <td> 0.000</td> <td>   18.250</td> <td>   18.397</td>\n",
       "</tr>\n",
       "<tr>\n",
       "  <th>type_Black</th>        <td>   -3.9297</td> <td>    0.040</td> <td>  -98.418</td> <td> 0.000</td> <td>   -4.008</td> <td>   -3.851</td>\n",
       "</tr>\n",
       "<tr>\n",
       "  <th>type_Black SUV</th>    <td>    5.8335</td> <td>    0.040</td> <td>  146.123</td> <td> 0.000</td> <td>    5.755</td> <td>    5.912</td>\n",
       "</tr>\n",
       "<tr>\n",
       "  <th>type_Lux</th>          <td>   -7.3453</td> <td>    0.041</td> <td> -177.612</td> <td> 0.000</td> <td>   -7.426</td> <td>   -7.264</td>\n",
       "</tr>\n",
       "<tr>\n",
       "  <th>type_Lux Black</th>    <td>   -2.0547</td> <td>    0.041</td> <td>  -49.655</td> <td> 0.000</td> <td>   -2.136</td> <td>   -1.974</td>\n",
       "</tr>\n",
       "<tr>\n",
       "  <th>type_Lux Black XL</th> <td>    7.1995</td> <td>    0.041</td> <td>  174.087</td> <td> 0.000</td> <td>    7.118</td> <td>    7.281</td>\n",
       "</tr>\n",
       "<tr>\n",
       "  <th>type_Lyft</th>         <td>  -15.5293</td> <td>    0.041</td> <td> -375.002</td> <td> 0.000</td> <td>  -15.610</td> <td>  -15.448</td>\n",
       "</tr>\n",
       "<tr>\n",
       "  <th>type_Lyft XL</th>      <td>   -9.8214</td> <td>    0.041</td> <td> -237.285</td> <td> 0.000</td> <td>   -9.903</td> <td>   -9.740</td>\n",
       "</tr>\n",
       "<tr>\n",
       "  <th>type_Shared</th>       <td>  -18.4089</td> <td>    0.040</td> <td> -459.515</td> <td> 0.000</td> <td>  -18.487</td> <td>  -18.330</td>\n",
       "</tr>\n",
       "<tr>\n",
       "  <th>type_UberPool</th>     <td>  -15.6908</td> <td>    0.040</td> <td> -393.033</td> <td> 0.000</td> <td>  -15.769</td> <td>  -15.613</td>\n",
       "</tr>\n",
       "<tr>\n",
       "  <th>type_UberX</th>        <td>  -14.6779</td> <td>    0.040</td> <td> -367.605</td> <td> 0.000</td> <td>  -14.756</td> <td>  -14.600</td>\n",
       "</tr>\n",
       "<tr>\n",
       "  <th>type_UberXL</th>       <td>   -8.7654</td> <td>    0.040</td> <td> -219.535</td> <td> 0.000</td> <td>   -8.844</td> <td>   -8.687</td>\n",
       "</tr>\n",
       "<tr>\n",
       "  <th>type_WAV</th>          <td>  -14.6802</td> <td>    0.040</td> <td> -367.637</td> <td> 0.000</td> <td>  -14.758</td> <td>  -14.602</td>\n",
       "</tr>\n",
       "</table>\n",
       "<table class=\"simpletable\">\n",
       "<tr>\n",
       "  <th>Omnibus:</th>       <td>204359.954</td> <th>  Durbin-Watson:     </th>  <td>   2.000</td>  \n",
       "</tr>\n",
       "<tr>\n",
       "  <th>Prob(Omnibus):</th>   <td> 0.000</td>   <th>  Jarque-Bera (JB):  </th> <td>3726825.902</td>\n",
       "</tr>\n",
       "<tr>\n",
       "  <th>Skew:</th>            <td> 1.464</td>   <th>  Prob(JB):          </th>  <td>    0.00</td>  \n",
       "</tr>\n",
       "<tr>\n",
       "  <th>Kurtosis:</th>        <td>15.910</td>   <th>  Cond. No.          </th>  <td>    105.</td>  \n",
       "</tr>\n",
       "</table><br/><br/>Notes:<br/>[1] Standard Errors assume that the covariance matrix of the errors is correctly specified."
      ],
      "text/plain": [
       "<class 'statsmodels.iolib.summary.Summary'>\n",
       "\"\"\"\n",
       "                            OLS Regression Results                            \n",
       "==============================================================================\n",
       "Dep. Variable:                      y   R-squared:                       0.927\n",
       "Model:                            OLS   Adj. R-squared:                  0.927\n",
       "Method:                 Least Squares   F-statistic:                 5.003e+05\n",
       "Date:                Fri, 30 Jul 2021   Prob (F-statistic):               0.00\n",
       "Time:                        23:26:39   Log-Likelihood:            -1.1948e+06\n",
       "No. Observations:              510380   AIC:                         2.390e+06\n",
       "Df Residuals:                  510366   BIC:                         2.390e+06\n",
       "Df Model:                          13                                         \n",
       "Covariance Type:            nonrobust                                         \n",
       "=====================================================================================\n",
       "                        coef    std err          t      P>|t|      [0.025      0.975]\n",
       "-------------------------------------------------------------------------------------\n",
       "distance              2.7957      0.003    901.590      0.000       2.790       2.802\n",
       "surge_multiplier     18.3234      0.038    486.495      0.000      18.250      18.397\n",
       "type_Black           -3.9297      0.040    -98.418      0.000      -4.008      -3.851\n",
       "type_Black SUV        5.8335      0.040    146.123      0.000       5.755       5.912\n",
       "type_Lux             -7.3453      0.041   -177.612      0.000      -7.426      -7.264\n",
       "type_Lux Black       -2.0547      0.041    -49.655      0.000      -2.136      -1.974\n",
       "type_Lux Black XL     7.1995      0.041    174.087      0.000       7.118       7.281\n",
       "type_Lyft           -15.5293      0.041   -375.002      0.000     -15.610     -15.448\n",
       "type_Lyft XL         -9.8214      0.041   -237.285      0.000      -9.903      -9.740\n",
       "type_Shared         -18.4089      0.040   -459.515      0.000     -18.487     -18.330\n",
       "type_UberPool       -15.6908      0.040   -393.033      0.000     -15.769     -15.613\n",
       "type_UberX          -14.6779      0.040   -367.605      0.000     -14.756     -14.600\n",
       "type_UberXL          -8.7654      0.040   -219.535      0.000      -8.844      -8.687\n",
       "type_WAV            -14.6802      0.040   -367.637      0.000     -14.758     -14.602\n",
       "==============================================================================\n",
       "Omnibus:                   204359.954   Durbin-Watson:                   2.000\n",
       "Prob(Omnibus):                  0.000   Jarque-Bera (JB):          3726825.902\n",
       "Skew:                           1.464   Prob(JB):                         0.00\n",
       "Kurtosis:                      15.910   Cond. No.                         105.\n",
       "==============================================================================\n",
       "\n",
       "Notes:\n",
       "[1] Standard Errors assume that the covariance matrix of the errors is correctly specified.\n",
       "\"\"\""
      ]
     },
     "execution_count": 173,
     "metadata": {},
     "output_type": "execute_result"
    }
   ],
   "source": [
    "model.summary()"
   ]
  },
  {
   "cell_type": "markdown",
   "id": "7332742e",
   "metadata": {},
   "source": [
    "nilai MSE dan RMSE"
   ]
  },
  {
   "cell_type": "code",
   "execution_count": 174,
   "id": "10583e09",
   "metadata": {},
   "outputs": [
    {
     "name": "stdout",
     "output_type": "stream",
     "text": [
      "6.329628750448779\n"
     ]
    },
    {
     "data": {
      "text/plain": [
       "2.515875344775408"
      ]
     },
     "execution_count": 174,
     "metadata": {},
     "output_type": "execute_result"
    }
   ],
   "source": [
    "print(mean_squared_error(y_test, predictions)) \n",
    "np.sqrt(mean_squared_error(y_test, predictions))"
   ]
  },
  {
   "cell_type": "markdown",
   "id": "12f283ec",
   "metadata": {},
   "source": [
    "# Selanjutnya kita akan membuat model linear regression dengan library Scikit_learn"
   ]
  },
  {
   "cell_type": "code",
   "execution_count": 175,
   "id": "6d2b667a",
   "metadata": {},
   "outputs": [
    {
     "data": {
      "text/html": [
       "<style  type=\"text/css\" >\n",
       "#T_981f3_row0_col0,#T_981f3_row1_col1,#T_981f3_row2_col2,#T_981f3_row3_col3,#T_981f3_row4_col4,#T_981f3_row5_col5,#T_981f3_row6_col6,#T_981f3_row7_col7,#T_981f3_row8_col8,#T_981f3_row9_col9,#T_981f3_row10_col10,#T_981f3_row11_col11,#T_981f3_row12_col12,#T_981f3_row13_col13{\n",
       "            background-color:  #023858;\n",
       "            color:  #f1f1f1;\n",
       "        }#T_981f3_row0_col1{\n",
       "            background-color:  #f4eef6;\n",
       "            color:  #000000;\n",
       "        }#T_981f3_row0_col2,#T_981f3_row0_col3,#T_981f3_row0_col4,#T_981f3_row0_col5,#T_981f3_row0_col6,#T_981f3_row0_col7,#T_981f3_row0_col8,#T_981f3_row0_col9,#T_981f3_row0_col10,#T_981f3_row0_col11,#T_981f3_row0_col12,#T_981f3_row0_col13{\n",
       "            background-color:  #f2ecf5;\n",
       "            color:  #000000;\n",
       "        }#T_981f3_row1_col0{\n",
       "            background-color:  #fbf4f9;\n",
       "            color:  #000000;\n",
       "        }#T_981f3_row1_col2,#T_981f3_row1_col3,#T_981f3_row1_col9,#T_981f3_row1_col10,#T_981f3_row1_col11,#T_981f3_row1_col12,#T_981f3_row1_col13{\n",
       "            background-color:  #f9f2f8;\n",
       "            color:  #000000;\n",
       "        }#T_981f3_row1_col4,#T_981f3_row1_col5,#T_981f3_row1_col6,#T_981f3_row1_col7,#T_981f3_row1_col8{\n",
       "            background-color:  #e7e3f0;\n",
       "            color:  #000000;\n",
       "        }#T_981f3_row2_col0,#T_981f3_row2_col1,#T_981f3_row2_col3,#T_981f3_row2_col4,#T_981f3_row2_col5,#T_981f3_row2_col6,#T_981f3_row2_col7,#T_981f3_row2_col8,#T_981f3_row2_col9,#T_981f3_row2_col10,#T_981f3_row2_col11,#T_981f3_row2_col12,#T_981f3_row2_col13,#T_981f3_row3_col0,#T_981f3_row3_col1,#T_981f3_row3_col2,#T_981f3_row3_col4,#T_981f3_row3_col5,#T_981f3_row3_col6,#T_981f3_row3_col7,#T_981f3_row3_col8,#T_981f3_row3_col9,#T_981f3_row3_col10,#T_981f3_row3_col11,#T_981f3_row3_col12,#T_981f3_row3_col13,#T_981f3_row4_col0,#T_981f3_row4_col2,#T_981f3_row4_col3,#T_981f3_row4_col5,#T_981f3_row4_col6,#T_981f3_row4_col7,#T_981f3_row4_col8,#T_981f3_row4_col9,#T_981f3_row4_col10,#T_981f3_row4_col11,#T_981f3_row4_col12,#T_981f3_row4_col13,#T_981f3_row5_col0,#T_981f3_row5_col2,#T_981f3_row5_col3,#T_981f3_row5_col4,#T_981f3_row5_col6,#T_981f3_row5_col7,#T_981f3_row5_col8,#T_981f3_row5_col9,#T_981f3_row5_col10,#T_981f3_row5_col11,#T_981f3_row5_col12,#T_981f3_row5_col13,#T_981f3_row6_col0,#T_981f3_row6_col2,#T_981f3_row6_col3,#T_981f3_row6_col4,#T_981f3_row6_col5,#T_981f3_row6_col7,#T_981f3_row6_col8,#T_981f3_row6_col9,#T_981f3_row6_col10,#T_981f3_row6_col11,#T_981f3_row6_col12,#T_981f3_row6_col13,#T_981f3_row7_col0,#T_981f3_row7_col2,#T_981f3_row7_col3,#T_981f3_row7_col4,#T_981f3_row7_col5,#T_981f3_row7_col6,#T_981f3_row7_col8,#T_981f3_row7_col9,#T_981f3_row7_col10,#T_981f3_row7_col11,#T_981f3_row7_col12,#T_981f3_row7_col13,#T_981f3_row8_col0,#T_981f3_row8_col2,#T_981f3_row8_col3,#T_981f3_row8_col4,#T_981f3_row8_col5,#T_981f3_row8_col6,#T_981f3_row8_col7,#T_981f3_row8_col9,#T_981f3_row8_col10,#T_981f3_row8_col11,#T_981f3_row8_col12,#T_981f3_row8_col13,#T_981f3_row9_col0,#T_981f3_row9_col1,#T_981f3_row9_col2,#T_981f3_row9_col3,#T_981f3_row9_col4,#T_981f3_row9_col5,#T_981f3_row9_col6,#T_981f3_row9_col7,#T_981f3_row9_col8,#T_981f3_row9_col10,#T_981f3_row9_col11,#T_981f3_row9_col12,#T_981f3_row9_col13,#T_981f3_row10_col0,#T_981f3_row10_col1,#T_981f3_row10_col2,#T_981f3_row10_col3,#T_981f3_row10_col4,#T_981f3_row10_col5,#T_981f3_row10_col6,#T_981f3_row10_col7,#T_981f3_row10_col8,#T_981f3_row10_col9,#T_981f3_row10_col11,#T_981f3_row10_col12,#T_981f3_row10_col13,#T_981f3_row11_col0,#T_981f3_row11_col1,#T_981f3_row11_col2,#T_981f3_row11_col3,#T_981f3_row11_col4,#T_981f3_row11_col5,#T_981f3_row11_col6,#T_981f3_row11_col7,#T_981f3_row11_col8,#T_981f3_row11_col9,#T_981f3_row11_col10,#T_981f3_row11_col12,#T_981f3_row11_col13,#T_981f3_row12_col0,#T_981f3_row12_col1,#T_981f3_row12_col2,#T_981f3_row12_col3,#T_981f3_row12_col4,#T_981f3_row12_col5,#T_981f3_row12_col6,#T_981f3_row12_col7,#T_981f3_row12_col8,#T_981f3_row12_col9,#T_981f3_row12_col10,#T_981f3_row12_col11,#T_981f3_row12_col13,#T_981f3_row13_col0,#T_981f3_row13_col1,#T_981f3_row13_col2,#T_981f3_row13_col3,#T_981f3_row13_col4,#T_981f3_row13_col5,#T_981f3_row13_col6,#T_981f3_row13_col7,#T_981f3_row13_col8,#T_981f3_row13_col9,#T_981f3_row13_col10,#T_981f3_row13_col11,#T_981f3_row13_col12{\n",
       "            background-color:  #fff7fb;\n",
       "            color:  #000000;\n",
       "        }#T_981f3_row4_col1,#T_981f3_row5_col1,#T_981f3_row6_col1{\n",
       "            background-color:  #eee9f3;\n",
       "            color:  #000000;\n",
       "        }#T_981f3_row7_col1,#T_981f3_row8_col1{\n",
       "            background-color:  #eee8f3;\n",
       "            color:  #000000;\n",
       "        }</style><table id=\"T_981f3_\" ><thead>    <tr>        <th class=\"blank level0\" ></th>        <th class=\"col_heading level0 col0\" >distance</th>        <th class=\"col_heading level0 col1\" >surge_multiplier</th>        <th class=\"col_heading level0 col2\" >type_Black</th>        <th class=\"col_heading level0 col3\" >type_Black SUV</th>        <th class=\"col_heading level0 col4\" >type_Lux</th>        <th class=\"col_heading level0 col5\" >type_Lux Black</th>        <th class=\"col_heading level0 col6\" >type_Lux Black XL</th>        <th class=\"col_heading level0 col7\" >type_Lyft</th>        <th class=\"col_heading level0 col8\" >type_Lyft XL</th>        <th class=\"col_heading level0 col9\" >type_Shared</th>        <th class=\"col_heading level0 col10\" >type_UberPool</th>        <th class=\"col_heading level0 col11\" >type_UberX</th>        <th class=\"col_heading level0 col12\" >type_UberXL</th>        <th class=\"col_heading level0 col13\" >type_WAV</th>    </tr></thead><tbody>\n",
       "                <tr>\n",
       "                        <th id=\"T_981f3_level0_row0\" class=\"row_heading level0 row0\" >distance</th>\n",
       "                        <td id=\"T_981f3_row0_col0\" class=\"data row0 col0\" >1.00</td>\n",
       "                        <td id=\"T_981f3_row0_col1\" class=\"data row0 col1\" >0.03</td>\n",
       "                        <td id=\"T_981f3_row0_col2\" class=\"data row0 col2\" >0.00</td>\n",
       "                        <td id=\"T_981f3_row0_col3\" class=\"data row0 col3\" >0.00</td>\n",
       "                        <td id=\"T_981f3_row0_col4\" class=\"data row0 col4\" >-0.00</td>\n",
       "                        <td id=\"T_981f3_row0_col5\" class=\"data row0 col5\" >-0.00</td>\n",
       "                        <td id=\"T_981f3_row0_col6\" class=\"data row0 col6\" >-0.00</td>\n",
       "                        <td id=\"T_981f3_row0_col7\" class=\"data row0 col7\" >-0.00</td>\n",
       "                        <td id=\"T_981f3_row0_col8\" class=\"data row0 col8\" >-0.00</td>\n",
       "                        <td id=\"T_981f3_row0_col9\" class=\"data row0 col9\" >-0.00</td>\n",
       "                        <td id=\"T_981f3_row0_col10\" class=\"data row0 col10\" >0.00</td>\n",
       "                        <td id=\"T_981f3_row0_col11\" class=\"data row0 col11\" >0.00</td>\n",
       "                        <td id=\"T_981f3_row0_col12\" class=\"data row0 col12\" >0.00</td>\n",
       "                        <td id=\"T_981f3_row0_col13\" class=\"data row0 col13\" >0.00</td>\n",
       "            </tr>\n",
       "            <tr>\n",
       "                        <th id=\"T_981f3_level0_row1\" class=\"row_heading level0 row1\" >surge_multiplier</th>\n",
       "                        <td id=\"T_981f3_row1_col0\" class=\"data row1 col0\" >0.03</td>\n",
       "                        <td id=\"T_981f3_row1_col1\" class=\"data row1 col1\" >1.00</td>\n",
       "                        <td id=\"T_981f3_row1_col2\" class=\"data row1 col2\" >-0.05</td>\n",
       "                        <td id=\"T_981f3_row1_col3\" class=\"data row1 col3\" >-0.05</td>\n",
       "                        <td id=\"T_981f3_row1_col4\" class=\"data row1 col4\" >0.07</td>\n",
       "                        <td id=\"T_981f3_row1_col5\" class=\"data row1 col5\" >0.07</td>\n",
       "                        <td id=\"T_981f3_row1_col6\" class=\"data row1 col6\" >0.07</td>\n",
       "                        <td id=\"T_981f3_row1_col7\" class=\"data row1 col7\" >0.07</td>\n",
       "                        <td id=\"T_981f3_row1_col8\" class=\"data row1 col8\" >0.07</td>\n",
       "                        <td id=\"T_981f3_row1_col9\" class=\"data row1 col9\" >-0.05</td>\n",
       "                        <td id=\"T_981f3_row1_col10\" class=\"data row1 col10\" >-0.05</td>\n",
       "                        <td id=\"T_981f3_row1_col11\" class=\"data row1 col11\" >-0.05</td>\n",
       "                        <td id=\"T_981f3_row1_col12\" class=\"data row1 col12\" >-0.05</td>\n",
       "                        <td id=\"T_981f3_row1_col13\" class=\"data row1 col13\" >-0.05</td>\n",
       "            </tr>\n",
       "            <tr>\n",
       "                        <th id=\"T_981f3_level0_row2\" class=\"row_heading level0 row2\" >type_Black</th>\n",
       "                        <td id=\"T_981f3_row2_col0\" class=\"data row2 col0\" >0.00</td>\n",
       "                        <td id=\"T_981f3_row2_col1\" class=\"data row2 col1\" >-0.05</td>\n",
       "                        <td id=\"T_981f3_row2_col2\" class=\"data row2 col2\" >1.00</td>\n",
       "                        <td id=\"T_981f3_row2_col3\" class=\"data row2 col3\" >-0.09</td>\n",
       "                        <td id=\"T_981f3_row2_col4\" class=\"data row2 col4\" >-0.09</td>\n",
       "                        <td id=\"T_981f3_row2_col5\" class=\"data row2 col5\" >-0.09</td>\n",
       "                        <td id=\"T_981f3_row2_col6\" class=\"data row2 col6\" >-0.09</td>\n",
       "                        <td id=\"T_981f3_row2_col7\" class=\"data row2 col7\" >-0.09</td>\n",
       "                        <td id=\"T_981f3_row2_col8\" class=\"data row2 col8\" >-0.09</td>\n",
       "                        <td id=\"T_981f3_row2_col9\" class=\"data row2 col9\" >-0.09</td>\n",
       "                        <td id=\"T_981f3_row2_col10\" class=\"data row2 col10\" >-0.09</td>\n",
       "                        <td id=\"T_981f3_row2_col11\" class=\"data row2 col11\" >-0.09</td>\n",
       "                        <td id=\"T_981f3_row2_col12\" class=\"data row2 col12\" >-0.09</td>\n",
       "                        <td id=\"T_981f3_row2_col13\" class=\"data row2 col13\" >-0.09</td>\n",
       "            </tr>\n",
       "            <tr>\n",
       "                        <th id=\"T_981f3_level0_row3\" class=\"row_heading level0 row3\" >type_Black SUV</th>\n",
       "                        <td id=\"T_981f3_row3_col0\" class=\"data row3 col0\" >0.00</td>\n",
       "                        <td id=\"T_981f3_row3_col1\" class=\"data row3 col1\" >-0.05</td>\n",
       "                        <td id=\"T_981f3_row3_col2\" class=\"data row3 col2\" >-0.09</td>\n",
       "                        <td id=\"T_981f3_row3_col3\" class=\"data row3 col3\" >1.00</td>\n",
       "                        <td id=\"T_981f3_row3_col4\" class=\"data row3 col4\" >-0.09</td>\n",
       "                        <td id=\"T_981f3_row3_col5\" class=\"data row3 col5\" >-0.09</td>\n",
       "                        <td id=\"T_981f3_row3_col6\" class=\"data row3 col6\" >-0.09</td>\n",
       "                        <td id=\"T_981f3_row3_col7\" class=\"data row3 col7\" >-0.09</td>\n",
       "                        <td id=\"T_981f3_row3_col8\" class=\"data row3 col8\" >-0.09</td>\n",
       "                        <td id=\"T_981f3_row3_col9\" class=\"data row3 col9\" >-0.09</td>\n",
       "                        <td id=\"T_981f3_row3_col10\" class=\"data row3 col10\" >-0.09</td>\n",
       "                        <td id=\"T_981f3_row3_col11\" class=\"data row3 col11\" >-0.09</td>\n",
       "                        <td id=\"T_981f3_row3_col12\" class=\"data row3 col12\" >-0.09</td>\n",
       "                        <td id=\"T_981f3_row3_col13\" class=\"data row3 col13\" >-0.09</td>\n",
       "            </tr>\n",
       "            <tr>\n",
       "                        <th id=\"T_981f3_level0_row4\" class=\"row_heading level0 row4\" >type_Lux</th>\n",
       "                        <td id=\"T_981f3_row4_col0\" class=\"data row4 col0\" >-0.00</td>\n",
       "                        <td id=\"T_981f3_row4_col1\" class=\"data row4 col1\" >0.07</td>\n",
       "                        <td id=\"T_981f3_row4_col2\" class=\"data row4 col2\" >-0.09</td>\n",
       "                        <td id=\"T_981f3_row4_col3\" class=\"data row4 col3\" >-0.09</td>\n",
       "                        <td id=\"T_981f3_row4_col4\" class=\"data row4 col4\" >1.00</td>\n",
       "                        <td id=\"T_981f3_row4_col5\" class=\"data row4 col5\" >-0.09</td>\n",
       "                        <td id=\"T_981f3_row4_col6\" class=\"data row4 col6\" >-0.09</td>\n",
       "                        <td id=\"T_981f3_row4_col7\" class=\"data row4 col7\" >-0.09</td>\n",
       "                        <td id=\"T_981f3_row4_col8\" class=\"data row4 col8\" >-0.09</td>\n",
       "                        <td id=\"T_981f3_row4_col9\" class=\"data row4 col9\" >-0.09</td>\n",
       "                        <td id=\"T_981f3_row4_col10\" class=\"data row4 col10\" >-0.09</td>\n",
       "                        <td id=\"T_981f3_row4_col11\" class=\"data row4 col11\" >-0.09</td>\n",
       "                        <td id=\"T_981f3_row4_col12\" class=\"data row4 col12\" >-0.09</td>\n",
       "                        <td id=\"T_981f3_row4_col13\" class=\"data row4 col13\" >-0.09</td>\n",
       "            </tr>\n",
       "            <tr>\n",
       "                        <th id=\"T_981f3_level0_row5\" class=\"row_heading level0 row5\" >type_Lux Black</th>\n",
       "                        <td id=\"T_981f3_row5_col0\" class=\"data row5 col0\" >-0.00</td>\n",
       "                        <td id=\"T_981f3_row5_col1\" class=\"data row5 col1\" >0.07</td>\n",
       "                        <td id=\"T_981f3_row5_col2\" class=\"data row5 col2\" >-0.09</td>\n",
       "                        <td id=\"T_981f3_row5_col3\" class=\"data row5 col3\" >-0.09</td>\n",
       "                        <td id=\"T_981f3_row5_col4\" class=\"data row5 col4\" >-0.09</td>\n",
       "                        <td id=\"T_981f3_row5_col5\" class=\"data row5 col5\" >1.00</td>\n",
       "                        <td id=\"T_981f3_row5_col6\" class=\"data row5 col6\" >-0.09</td>\n",
       "                        <td id=\"T_981f3_row5_col7\" class=\"data row5 col7\" >-0.09</td>\n",
       "                        <td id=\"T_981f3_row5_col8\" class=\"data row5 col8\" >-0.09</td>\n",
       "                        <td id=\"T_981f3_row5_col9\" class=\"data row5 col9\" >-0.09</td>\n",
       "                        <td id=\"T_981f3_row5_col10\" class=\"data row5 col10\" >-0.09</td>\n",
       "                        <td id=\"T_981f3_row5_col11\" class=\"data row5 col11\" >-0.09</td>\n",
       "                        <td id=\"T_981f3_row5_col12\" class=\"data row5 col12\" >-0.09</td>\n",
       "                        <td id=\"T_981f3_row5_col13\" class=\"data row5 col13\" >-0.09</td>\n",
       "            </tr>\n",
       "            <tr>\n",
       "                        <th id=\"T_981f3_level0_row6\" class=\"row_heading level0 row6\" >type_Lux Black XL</th>\n",
       "                        <td id=\"T_981f3_row6_col0\" class=\"data row6 col0\" >-0.00</td>\n",
       "                        <td id=\"T_981f3_row6_col1\" class=\"data row6 col1\" >0.07</td>\n",
       "                        <td id=\"T_981f3_row6_col2\" class=\"data row6 col2\" >-0.09</td>\n",
       "                        <td id=\"T_981f3_row6_col3\" class=\"data row6 col3\" >-0.09</td>\n",
       "                        <td id=\"T_981f3_row6_col4\" class=\"data row6 col4\" >-0.09</td>\n",
       "                        <td id=\"T_981f3_row6_col5\" class=\"data row6 col5\" >-0.09</td>\n",
       "                        <td id=\"T_981f3_row6_col6\" class=\"data row6 col6\" >1.00</td>\n",
       "                        <td id=\"T_981f3_row6_col7\" class=\"data row6 col7\" >-0.09</td>\n",
       "                        <td id=\"T_981f3_row6_col8\" class=\"data row6 col8\" >-0.09</td>\n",
       "                        <td id=\"T_981f3_row6_col9\" class=\"data row6 col9\" >-0.09</td>\n",
       "                        <td id=\"T_981f3_row6_col10\" class=\"data row6 col10\" >-0.09</td>\n",
       "                        <td id=\"T_981f3_row6_col11\" class=\"data row6 col11\" >-0.09</td>\n",
       "                        <td id=\"T_981f3_row6_col12\" class=\"data row6 col12\" >-0.09</td>\n",
       "                        <td id=\"T_981f3_row6_col13\" class=\"data row6 col13\" >-0.09</td>\n",
       "            </tr>\n",
       "            <tr>\n",
       "                        <th id=\"T_981f3_level0_row7\" class=\"row_heading level0 row7\" >type_Lyft</th>\n",
       "                        <td id=\"T_981f3_row7_col0\" class=\"data row7 col0\" >-0.00</td>\n",
       "                        <td id=\"T_981f3_row7_col1\" class=\"data row7 col1\" >0.07</td>\n",
       "                        <td id=\"T_981f3_row7_col2\" class=\"data row7 col2\" >-0.09</td>\n",
       "                        <td id=\"T_981f3_row7_col3\" class=\"data row7 col3\" >-0.09</td>\n",
       "                        <td id=\"T_981f3_row7_col4\" class=\"data row7 col4\" >-0.09</td>\n",
       "                        <td id=\"T_981f3_row7_col5\" class=\"data row7 col5\" >-0.09</td>\n",
       "                        <td id=\"T_981f3_row7_col6\" class=\"data row7 col6\" >-0.09</td>\n",
       "                        <td id=\"T_981f3_row7_col7\" class=\"data row7 col7\" >1.00</td>\n",
       "                        <td id=\"T_981f3_row7_col8\" class=\"data row7 col8\" >-0.09</td>\n",
       "                        <td id=\"T_981f3_row7_col9\" class=\"data row7 col9\" >-0.09</td>\n",
       "                        <td id=\"T_981f3_row7_col10\" class=\"data row7 col10\" >-0.09</td>\n",
       "                        <td id=\"T_981f3_row7_col11\" class=\"data row7 col11\" >-0.09</td>\n",
       "                        <td id=\"T_981f3_row7_col12\" class=\"data row7 col12\" >-0.09</td>\n",
       "                        <td id=\"T_981f3_row7_col13\" class=\"data row7 col13\" >-0.09</td>\n",
       "            </tr>\n",
       "            <tr>\n",
       "                        <th id=\"T_981f3_level0_row8\" class=\"row_heading level0 row8\" >type_Lyft XL</th>\n",
       "                        <td id=\"T_981f3_row8_col0\" class=\"data row8 col0\" >-0.00</td>\n",
       "                        <td id=\"T_981f3_row8_col1\" class=\"data row8 col1\" >0.07</td>\n",
       "                        <td id=\"T_981f3_row8_col2\" class=\"data row8 col2\" >-0.09</td>\n",
       "                        <td id=\"T_981f3_row8_col3\" class=\"data row8 col3\" >-0.09</td>\n",
       "                        <td id=\"T_981f3_row8_col4\" class=\"data row8 col4\" >-0.09</td>\n",
       "                        <td id=\"T_981f3_row8_col5\" class=\"data row8 col5\" >-0.09</td>\n",
       "                        <td id=\"T_981f3_row8_col6\" class=\"data row8 col6\" >-0.09</td>\n",
       "                        <td id=\"T_981f3_row8_col7\" class=\"data row8 col7\" >-0.09</td>\n",
       "                        <td id=\"T_981f3_row8_col8\" class=\"data row8 col8\" >1.00</td>\n",
       "                        <td id=\"T_981f3_row8_col9\" class=\"data row8 col9\" >-0.09</td>\n",
       "                        <td id=\"T_981f3_row8_col10\" class=\"data row8 col10\" >-0.09</td>\n",
       "                        <td id=\"T_981f3_row8_col11\" class=\"data row8 col11\" >-0.09</td>\n",
       "                        <td id=\"T_981f3_row8_col12\" class=\"data row8 col12\" >-0.09</td>\n",
       "                        <td id=\"T_981f3_row8_col13\" class=\"data row8 col13\" >-0.09</td>\n",
       "            </tr>\n",
       "            <tr>\n",
       "                        <th id=\"T_981f3_level0_row9\" class=\"row_heading level0 row9\" >type_Shared</th>\n",
       "                        <td id=\"T_981f3_row9_col0\" class=\"data row9 col0\" >-0.00</td>\n",
       "                        <td id=\"T_981f3_row9_col1\" class=\"data row9 col1\" >-0.05</td>\n",
       "                        <td id=\"T_981f3_row9_col2\" class=\"data row9 col2\" >-0.09</td>\n",
       "                        <td id=\"T_981f3_row9_col3\" class=\"data row9 col3\" >-0.09</td>\n",
       "                        <td id=\"T_981f3_row9_col4\" class=\"data row9 col4\" >-0.09</td>\n",
       "                        <td id=\"T_981f3_row9_col5\" class=\"data row9 col5\" >-0.09</td>\n",
       "                        <td id=\"T_981f3_row9_col6\" class=\"data row9 col6\" >-0.09</td>\n",
       "                        <td id=\"T_981f3_row9_col7\" class=\"data row9 col7\" >-0.09</td>\n",
       "                        <td id=\"T_981f3_row9_col8\" class=\"data row9 col8\" >-0.09</td>\n",
       "                        <td id=\"T_981f3_row9_col9\" class=\"data row9 col9\" >1.00</td>\n",
       "                        <td id=\"T_981f3_row9_col10\" class=\"data row9 col10\" >-0.09</td>\n",
       "                        <td id=\"T_981f3_row9_col11\" class=\"data row9 col11\" >-0.09</td>\n",
       "                        <td id=\"T_981f3_row9_col12\" class=\"data row9 col12\" >-0.09</td>\n",
       "                        <td id=\"T_981f3_row9_col13\" class=\"data row9 col13\" >-0.09</td>\n",
       "            </tr>\n",
       "            <tr>\n",
       "                        <th id=\"T_981f3_level0_row10\" class=\"row_heading level0 row10\" >type_UberPool</th>\n",
       "                        <td id=\"T_981f3_row10_col0\" class=\"data row10 col0\" >0.00</td>\n",
       "                        <td id=\"T_981f3_row10_col1\" class=\"data row10 col1\" >-0.05</td>\n",
       "                        <td id=\"T_981f3_row10_col2\" class=\"data row10 col2\" >-0.09</td>\n",
       "                        <td id=\"T_981f3_row10_col3\" class=\"data row10 col3\" >-0.09</td>\n",
       "                        <td id=\"T_981f3_row10_col4\" class=\"data row10 col4\" >-0.09</td>\n",
       "                        <td id=\"T_981f3_row10_col5\" class=\"data row10 col5\" >-0.09</td>\n",
       "                        <td id=\"T_981f3_row10_col6\" class=\"data row10 col6\" >-0.09</td>\n",
       "                        <td id=\"T_981f3_row10_col7\" class=\"data row10 col7\" >-0.09</td>\n",
       "                        <td id=\"T_981f3_row10_col8\" class=\"data row10 col8\" >-0.09</td>\n",
       "                        <td id=\"T_981f3_row10_col9\" class=\"data row10 col9\" >-0.09</td>\n",
       "                        <td id=\"T_981f3_row10_col10\" class=\"data row10 col10\" >1.00</td>\n",
       "                        <td id=\"T_981f3_row10_col11\" class=\"data row10 col11\" >-0.09</td>\n",
       "                        <td id=\"T_981f3_row10_col12\" class=\"data row10 col12\" >-0.09</td>\n",
       "                        <td id=\"T_981f3_row10_col13\" class=\"data row10 col13\" >-0.09</td>\n",
       "            </tr>\n",
       "            <tr>\n",
       "                        <th id=\"T_981f3_level0_row11\" class=\"row_heading level0 row11\" >type_UberX</th>\n",
       "                        <td id=\"T_981f3_row11_col0\" class=\"data row11 col0\" >0.00</td>\n",
       "                        <td id=\"T_981f3_row11_col1\" class=\"data row11 col1\" >-0.05</td>\n",
       "                        <td id=\"T_981f3_row11_col2\" class=\"data row11 col2\" >-0.09</td>\n",
       "                        <td id=\"T_981f3_row11_col3\" class=\"data row11 col3\" >-0.09</td>\n",
       "                        <td id=\"T_981f3_row11_col4\" class=\"data row11 col4\" >-0.09</td>\n",
       "                        <td id=\"T_981f3_row11_col5\" class=\"data row11 col5\" >-0.09</td>\n",
       "                        <td id=\"T_981f3_row11_col6\" class=\"data row11 col6\" >-0.09</td>\n",
       "                        <td id=\"T_981f3_row11_col7\" class=\"data row11 col7\" >-0.09</td>\n",
       "                        <td id=\"T_981f3_row11_col8\" class=\"data row11 col8\" >-0.09</td>\n",
       "                        <td id=\"T_981f3_row11_col9\" class=\"data row11 col9\" >-0.09</td>\n",
       "                        <td id=\"T_981f3_row11_col10\" class=\"data row11 col10\" >-0.09</td>\n",
       "                        <td id=\"T_981f3_row11_col11\" class=\"data row11 col11\" >1.00</td>\n",
       "                        <td id=\"T_981f3_row11_col12\" class=\"data row11 col12\" >-0.09</td>\n",
       "                        <td id=\"T_981f3_row11_col13\" class=\"data row11 col13\" >-0.09</td>\n",
       "            </tr>\n",
       "            <tr>\n",
       "                        <th id=\"T_981f3_level0_row12\" class=\"row_heading level0 row12\" >type_UberXL</th>\n",
       "                        <td id=\"T_981f3_row12_col0\" class=\"data row12 col0\" >0.00</td>\n",
       "                        <td id=\"T_981f3_row12_col1\" class=\"data row12 col1\" >-0.05</td>\n",
       "                        <td id=\"T_981f3_row12_col2\" class=\"data row12 col2\" >-0.09</td>\n",
       "                        <td id=\"T_981f3_row12_col3\" class=\"data row12 col3\" >-0.09</td>\n",
       "                        <td id=\"T_981f3_row12_col4\" class=\"data row12 col4\" >-0.09</td>\n",
       "                        <td id=\"T_981f3_row12_col5\" class=\"data row12 col5\" >-0.09</td>\n",
       "                        <td id=\"T_981f3_row12_col6\" class=\"data row12 col6\" >-0.09</td>\n",
       "                        <td id=\"T_981f3_row12_col7\" class=\"data row12 col7\" >-0.09</td>\n",
       "                        <td id=\"T_981f3_row12_col8\" class=\"data row12 col8\" >-0.09</td>\n",
       "                        <td id=\"T_981f3_row12_col9\" class=\"data row12 col9\" >-0.09</td>\n",
       "                        <td id=\"T_981f3_row12_col10\" class=\"data row12 col10\" >-0.09</td>\n",
       "                        <td id=\"T_981f3_row12_col11\" class=\"data row12 col11\" >-0.09</td>\n",
       "                        <td id=\"T_981f3_row12_col12\" class=\"data row12 col12\" >1.00</td>\n",
       "                        <td id=\"T_981f3_row12_col13\" class=\"data row12 col13\" >-0.09</td>\n",
       "            </tr>\n",
       "            <tr>\n",
       "                        <th id=\"T_981f3_level0_row13\" class=\"row_heading level0 row13\" >type_WAV</th>\n",
       "                        <td id=\"T_981f3_row13_col0\" class=\"data row13 col0\" >0.00</td>\n",
       "                        <td id=\"T_981f3_row13_col1\" class=\"data row13 col1\" >-0.05</td>\n",
       "                        <td id=\"T_981f3_row13_col2\" class=\"data row13 col2\" >-0.09</td>\n",
       "                        <td id=\"T_981f3_row13_col3\" class=\"data row13 col3\" >-0.09</td>\n",
       "                        <td id=\"T_981f3_row13_col4\" class=\"data row13 col4\" >-0.09</td>\n",
       "                        <td id=\"T_981f3_row13_col5\" class=\"data row13 col5\" >-0.09</td>\n",
       "                        <td id=\"T_981f3_row13_col6\" class=\"data row13 col6\" >-0.09</td>\n",
       "                        <td id=\"T_981f3_row13_col7\" class=\"data row13 col7\" >-0.09</td>\n",
       "                        <td id=\"T_981f3_row13_col8\" class=\"data row13 col8\" >-0.09</td>\n",
       "                        <td id=\"T_981f3_row13_col9\" class=\"data row13 col9\" >-0.09</td>\n",
       "                        <td id=\"T_981f3_row13_col10\" class=\"data row13 col10\" >-0.09</td>\n",
       "                        <td id=\"T_981f3_row13_col11\" class=\"data row13 col11\" >-0.09</td>\n",
       "                        <td id=\"T_981f3_row13_col12\" class=\"data row13 col12\" >-0.09</td>\n",
       "                        <td id=\"T_981f3_row13_col13\" class=\"data row13 col13\" >1.00</td>\n",
       "            </tr>\n",
       "    </tbody></table>"
      ],
      "text/plain": [
       "<pandas.io.formats.style.Styler at 0x1ca32277ee0>"
      ]
     },
     "execution_count": 175,
     "metadata": {},
     "output_type": "execute_result"
    }
   ],
   "source": [
    "#Mengetahui nilai korelasi dari independent variable dan dependent variable\n",
    "df.corr().style.background_gradient().set_precision(2)"
   ]
  },
  {
   "cell_type": "code",
   "execution_count": 176,
   "id": "48b49ea9",
   "metadata": {},
   "outputs": [
    {
     "data": {
      "text/html": [
       "<div>\n",
       "<style scoped>\n",
       "    .dataframe tbody tr th:only-of-type {\n",
       "        vertical-align: middle;\n",
       "    }\n",
       "\n",
       "    .dataframe tbody tr th {\n",
       "        vertical-align: top;\n",
       "    }\n",
       "\n",
       "    .dataframe thead th {\n",
       "        text-align: right;\n",
       "    }\n",
       "</style>\n",
       "<table border=\"1\" class=\"dataframe\">\n",
       "  <thead>\n",
       "    <tr style=\"text-align: right;\">\n",
       "      <th></th>\n",
       "      <th>distance</th>\n",
       "      <th>surge_multiplier</th>\n",
       "      <th>type_Black</th>\n",
       "      <th>type_Black SUV</th>\n",
       "      <th>type_Lux</th>\n",
       "      <th>type_Lux Black</th>\n",
       "      <th>type_Lux Black XL</th>\n",
       "      <th>type_Lyft</th>\n",
       "      <th>type_Lyft XL</th>\n",
       "      <th>type_Shared</th>\n",
       "      <th>type_UberPool</th>\n",
       "      <th>type_UberX</th>\n",
       "      <th>type_UberXL</th>\n",
       "      <th>type_WAV</th>\n",
       "    </tr>\n",
       "    <tr>\n",
       "      <th>id</th>\n",
       "      <th></th>\n",
       "      <th></th>\n",
       "      <th></th>\n",
       "      <th></th>\n",
       "      <th></th>\n",
       "      <th></th>\n",
       "      <th></th>\n",
       "      <th></th>\n",
       "      <th></th>\n",
       "      <th></th>\n",
       "      <th></th>\n",
       "      <th></th>\n",
       "      <th></th>\n",
       "      <th></th>\n",
       "    </tr>\n",
       "  </thead>\n",
       "  <tbody>\n",
       "    <tr>\n",
       "      <th>424553bb-7174-41ea-aeb4-fe06d4f4b9d7</th>\n",
       "      <td>0.44</td>\n",
       "      <td>1.0</td>\n",
       "      <td>0</td>\n",
       "      <td>0</td>\n",
       "      <td>0</td>\n",
       "      <td>0</td>\n",
       "      <td>0</td>\n",
       "      <td>0</td>\n",
       "      <td>0</td>\n",
       "      <td>1</td>\n",
       "      <td>0</td>\n",
       "      <td>0</td>\n",
       "      <td>0</td>\n",
       "      <td>0</td>\n",
       "    </tr>\n",
       "    <tr>\n",
       "      <th>4bd23055-6827-41c6-b23b-3c491f24e74d</th>\n",
       "      <td>0.44</td>\n",
       "      <td>1.0</td>\n",
       "      <td>0</td>\n",
       "      <td>0</td>\n",
       "      <td>1</td>\n",
       "      <td>0</td>\n",
       "      <td>0</td>\n",
       "      <td>0</td>\n",
       "      <td>0</td>\n",
       "      <td>0</td>\n",
       "      <td>0</td>\n",
       "      <td>0</td>\n",
       "      <td>0</td>\n",
       "      <td>0</td>\n",
       "    </tr>\n",
       "    <tr>\n",
       "      <th>981a3613-77af-4620-a42a-0c0866077d1e</th>\n",
       "      <td>0.44</td>\n",
       "      <td>1.0</td>\n",
       "      <td>0</td>\n",
       "      <td>0</td>\n",
       "      <td>0</td>\n",
       "      <td>0</td>\n",
       "      <td>0</td>\n",
       "      <td>1</td>\n",
       "      <td>0</td>\n",
       "      <td>0</td>\n",
       "      <td>0</td>\n",
       "      <td>0</td>\n",
       "      <td>0</td>\n",
       "      <td>0</td>\n",
       "    </tr>\n",
       "    <tr>\n",
       "      <th>c2d88af2-d278-4bfd-a8d0-29ca77cc5512</th>\n",
       "      <td>0.44</td>\n",
       "      <td>1.0</td>\n",
       "      <td>0</td>\n",
       "      <td>0</td>\n",
       "      <td>0</td>\n",
       "      <td>0</td>\n",
       "      <td>1</td>\n",
       "      <td>0</td>\n",
       "      <td>0</td>\n",
       "      <td>0</td>\n",
       "      <td>0</td>\n",
       "      <td>0</td>\n",
       "      <td>0</td>\n",
       "      <td>0</td>\n",
       "    </tr>\n",
       "    <tr>\n",
       "      <th>e0126e1f-8ca9-4f2e-82b3-50505a09db9a</th>\n",
       "      <td>0.44</td>\n",
       "      <td>1.0</td>\n",
       "      <td>0</td>\n",
       "      <td>0</td>\n",
       "      <td>0</td>\n",
       "      <td>0</td>\n",
       "      <td>0</td>\n",
       "      <td>0</td>\n",
       "      <td>1</td>\n",
       "      <td>0</td>\n",
       "      <td>0</td>\n",
       "      <td>0</td>\n",
       "      <td>0</td>\n",
       "      <td>0</td>\n",
       "    </tr>\n",
       "  </tbody>\n",
       "</table>\n",
       "</div>"
      ],
      "text/plain": [
       "                                      distance  surge_multiplier  type_Black  \\\n",
       "id                                                                             \n",
       "424553bb-7174-41ea-aeb4-fe06d4f4b9d7      0.44               1.0           0   \n",
       "4bd23055-6827-41c6-b23b-3c491f24e74d      0.44               1.0           0   \n",
       "981a3613-77af-4620-a42a-0c0866077d1e      0.44               1.0           0   \n",
       "c2d88af2-d278-4bfd-a8d0-29ca77cc5512      0.44               1.0           0   \n",
       "e0126e1f-8ca9-4f2e-82b3-50505a09db9a      0.44               1.0           0   \n",
       "\n",
       "                                      type_Black SUV  type_Lux  \\\n",
       "id                                                               \n",
       "424553bb-7174-41ea-aeb4-fe06d4f4b9d7               0         0   \n",
       "4bd23055-6827-41c6-b23b-3c491f24e74d               0         1   \n",
       "981a3613-77af-4620-a42a-0c0866077d1e               0         0   \n",
       "c2d88af2-d278-4bfd-a8d0-29ca77cc5512               0         0   \n",
       "e0126e1f-8ca9-4f2e-82b3-50505a09db9a               0         0   \n",
       "\n",
       "                                      type_Lux Black  type_Lux Black XL  \\\n",
       "id                                                                        \n",
       "424553bb-7174-41ea-aeb4-fe06d4f4b9d7               0                  0   \n",
       "4bd23055-6827-41c6-b23b-3c491f24e74d               0                  0   \n",
       "981a3613-77af-4620-a42a-0c0866077d1e               0                  0   \n",
       "c2d88af2-d278-4bfd-a8d0-29ca77cc5512               0                  1   \n",
       "e0126e1f-8ca9-4f2e-82b3-50505a09db9a               0                  0   \n",
       "\n",
       "                                      type_Lyft  type_Lyft XL  type_Shared  \\\n",
       "id                                                                           \n",
       "424553bb-7174-41ea-aeb4-fe06d4f4b9d7          0             0            1   \n",
       "4bd23055-6827-41c6-b23b-3c491f24e74d          0             0            0   \n",
       "981a3613-77af-4620-a42a-0c0866077d1e          1             0            0   \n",
       "c2d88af2-d278-4bfd-a8d0-29ca77cc5512          0             0            0   \n",
       "e0126e1f-8ca9-4f2e-82b3-50505a09db9a          0             1            0   \n",
       "\n",
       "                                      type_UberPool  type_UberX  type_UberXL  \\\n",
       "id                                                                             \n",
       "424553bb-7174-41ea-aeb4-fe06d4f4b9d7              0           0            0   \n",
       "4bd23055-6827-41c6-b23b-3c491f24e74d              0           0            0   \n",
       "981a3613-77af-4620-a42a-0c0866077d1e              0           0            0   \n",
       "c2d88af2-d278-4bfd-a8d0-29ca77cc5512              0           0            0   \n",
       "e0126e1f-8ca9-4f2e-82b3-50505a09db9a              0           0            0   \n",
       "\n",
       "                                      type_WAV  \n",
       "id                                              \n",
       "424553bb-7174-41ea-aeb4-fe06d4f4b9d7         0  \n",
       "4bd23055-6827-41c6-b23b-3c491f24e74d         0  \n",
       "981a3613-77af-4620-a42a-0c0866077d1e         0  \n",
       "c2d88af2-d278-4bfd-a8d0-29ca77cc5512         0  \n",
       "e0126e1f-8ca9-4f2e-82b3-50505a09db9a         0  "
      ]
     },
     "execution_count": 176,
     "metadata": {},
     "output_type": "execute_result"
    }
   ],
   "source": [
    "df.head(5)"
   ]
  },
  {
   "cell_type": "code",
   "execution_count": 177,
   "id": "72c9ee88",
   "metadata": {},
   "outputs": [],
   "source": [
    "#kita split data kita menjadi training and testing dengan porsi 80:20\n",
    "x_train, x_test, y_train, y_test = train_test_split(df,y,test_size=0.2,random_state=42)"
   ]
  },
  {
   "cell_type": "code",
   "execution_count": 178,
   "id": "6c3e85f1",
   "metadata": {},
   "outputs": [],
   "source": [
    "#kita bikin object linear regresi\n",
    "lin_reg = LinearRegression()"
   ]
  },
  {
   "cell_type": "code",
   "execution_count": 179,
   "id": "06e6ab9e",
   "metadata": {},
   "outputs": [
    {
     "data": {
      "text/plain": [
       "LinearRegression()"
      ]
     },
     "execution_count": 179,
     "metadata": {},
     "output_type": "execute_result"
    }
   ],
   "source": [
    "#train the model menggunakan training data yang sudah displit\n",
    "lin_reg.fit(x_train, y_train)"
   ]
  },
  {
   "cell_type": "code",
   "execution_count": 180,
   "id": "e023a733",
   "metadata": {},
   "outputs": [
    {
     "name": "stdout",
     "output_type": "stream",
     "text": [
      "[2.79556645e+00 1.83239775e+01 7.67217012e+11 7.67217012e+11\n",
      " 7.67217012e+11 7.67217012e+11 7.67217012e+11 7.67217012e+11\n",
      " 7.67217012e+11 7.67217012e+11 7.67217012e+11 7.67217012e+11\n",
      " 7.67217012e+11 7.67217012e+11]\n",
      "-767217012338.2019\n"
     ]
    }
   ],
   "source": [
    "#cari tau nilai slope/koefisien (m) dan intercept (b)\n",
    "print(lin_reg.coef_)\n",
    "print(lin_reg.intercept_)"
   ]
  },
  {
   "cell_type": "code",
   "execution_count": 181,
   "id": "69e63335",
   "metadata": {},
   "outputs": [
    {
     "data": {
      "text/html": [
       "<div>\n",
       "<style scoped>\n",
       "    .dataframe tbody tr th:only-of-type {\n",
       "        vertical-align: middle;\n",
       "    }\n",
       "\n",
       "    .dataframe tbody tr th {\n",
       "        vertical-align: top;\n",
       "    }\n",
       "\n",
       "    .dataframe thead th {\n",
       "        text-align: right;\n",
       "    }\n",
       "</style>\n",
       "<table border=\"1\" class=\"dataframe\">\n",
       "  <thead>\n",
       "    <tr style=\"text-align: right;\">\n",
       "      <th></th>\n",
       "      <th>features</th>\n",
       "      <th>coef_value</th>\n",
       "    </tr>\n",
       "  </thead>\n",
       "  <tbody>\n",
       "    <tr>\n",
       "      <th>0</th>\n",
       "      <td>distance</td>\n",
       "      <td>2.795566e+00</td>\n",
       "    </tr>\n",
       "    <tr>\n",
       "      <th>1</th>\n",
       "      <td>surge_multiplier</td>\n",
       "      <td>1.832398e+01</td>\n",
       "    </tr>\n",
       "    <tr>\n",
       "      <th>2</th>\n",
       "      <td>type_Black</td>\n",
       "      <td>7.672170e+11</td>\n",
       "    </tr>\n",
       "    <tr>\n",
       "      <th>3</th>\n",
       "      <td>type_Black SUV</td>\n",
       "      <td>7.672170e+11</td>\n",
       "    </tr>\n",
       "    <tr>\n",
       "      <th>4</th>\n",
       "      <td>type_Lux</td>\n",
       "      <td>7.672170e+11</td>\n",
       "    </tr>\n",
       "    <tr>\n",
       "      <th>5</th>\n",
       "      <td>type_Lux Black</td>\n",
       "      <td>7.672170e+11</td>\n",
       "    </tr>\n",
       "    <tr>\n",
       "      <th>6</th>\n",
       "      <td>type_Lux Black XL</td>\n",
       "      <td>7.672170e+11</td>\n",
       "    </tr>\n",
       "    <tr>\n",
       "      <th>7</th>\n",
       "      <td>type_Lyft</td>\n",
       "      <td>7.672170e+11</td>\n",
       "    </tr>\n",
       "    <tr>\n",
       "      <th>8</th>\n",
       "      <td>type_Lyft XL</td>\n",
       "      <td>7.672170e+11</td>\n",
       "    </tr>\n",
       "    <tr>\n",
       "      <th>9</th>\n",
       "      <td>type_Shared</td>\n",
       "      <td>7.672170e+11</td>\n",
       "    </tr>\n",
       "    <tr>\n",
       "      <th>10</th>\n",
       "      <td>type_UberPool</td>\n",
       "      <td>7.672170e+11</td>\n",
       "    </tr>\n",
       "    <tr>\n",
       "      <th>11</th>\n",
       "      <td>type_UberX</td>\n",
       "      <td>7.672170e+11</td>\n",
       "    </tr>\n",
       "    <tr>\n",
       "      <th>12</th>\n",
       "      <td>type_UberXL</td>\n",
       "      <td>7.672170e+11</td>\n",
       "    </tr>\n",
       "    <tr>\n",
       "      <th>13</th>\n",
       "      <td>type_WAV</td>\n",
       "      <td>7.672170e+11</td>\n",
       "    </tr>\n",
       "  </tbody>\n",
       "</table>\n",
       "</div>"
      ],
      "text/plain": [
       "             features    coef_value\n",
       "0            distance  2.795566e+00\n",
       "1    surge_multiplier  1.832398e+01\n",
       "2          type_Black  7.672170e+11\n",
       "3      type_Black SUV  7.672170e+11\n",
       "4            type_Lux  7.672170e+11\n",
       "5      type_Lux Black  7.672170e+11\n",
       "6   type_Lux Black XL  7.672170e+11\n",
       "7           type_Lyft  7.672170e+11\n",
       "8        type_Lyft XL  7.672170e+11\n",
       "9         type_Shared  7.672170e+11\n",
       "10      type_UberPool  7.672170e+11\n",
       "11         type_UberX  7.672170e+11\n",
       "12        type_UberXL  7.672170e+11\n",
       "13           type_WAV  7.672170e+11"
      ]
     },
     "execution_count": 181,
     "metadata": {},
     "output_type": "execute_result"
    }
   ],
   "source": [
    "#Kita coba buat kedalam dataframe agar kebih rapi\n",
    "coef_dict = {\n",
    "    'features': df.columns,\n",
    "    'coef_value':lin_reg.coef_\n",
    "}\n",
    "coef = pd.DataFrame(coef_dict, columns=['features', 'coef_value'])\n",
    "coef"
   ]
  },
  {
   "cell_type": "code",
   "execution_count": 182,
   "id": "6bf1e164",
   "metadata": {},
   "outputs": [],
   "source": [
    "y_pred = lin_reg.predict(x_test)"
   ]
  },
  {
   "cell_type": "code",
   "execution_count": 183,
   "id": "92ae2c75",
   "metadata": {},
   "outputs": [
    {
     "data": {
      "text/plain": [
       "0.9273961726926336"
      ]
     },
     "execution_count": 183,
     "metadata": {},
     "output_type": "execute_result"
    }
   ],
   "source": [
    "#kita cari tahu accuracy score dari model kita menggunakan testing data yang sudah displit\n",
    "lin_reg.score(x_test, y_test)"
   ]
  },
  {
   "cell_type": "markdown",
   "id": "448fcb1a",
   "metadata": {},
   "source": [
    "Model kita mendapatkan accuracy score sebesar 92.73%"
   ]
  },
  {
   "cell_type": "markdown",
   "id": "57cdd1a4",
   "metadata": {},
   "source": [
    "# MODEL INFERENCE "
   ]
  },
  {
   "cell_type": "markdown",
   "id": "38ac5e03",
   "metadata": {},
   "source": [
    "**Prediction**"
   ]
  },
  {
   "cell_type": "markdown",
   "id": "ed05ab02",
   "metadata": {},
   "source": [
    "kita prediksi harga argo sesuai dengan kriteria sebagai berikut:\n",
    "1. distance = 10\n",
    "2. surge_multiplier = 2\n",
    "3. Type Kendaraan = Lux Black XL"
   ]
  },
  {
   "cell_type": "code",
   "execution_count": 184,
   "id": "7a81c4c9",
   "metadata": {},
   "outputs": [
    {
     "data": {
      "text/plain": [
       "array([71.80114746])"
      ]
     },
     "execution_count": 184,
     "metadata": {},
     "output_type": "execute_result"
    }
   ],
   "source": [
    "#Prediksi harga argo\n",
    "lin_reg.predict([[10,2,0,0,0,0,1,0,0,0,0,0,0,0]])"
   ]
  },
  {
   "cell_type": "markdown",
   "id": "9711f10a",
   "metadata": {},
   "source": [
    "Harga (price) argonya adalah 71.80 US$"
   ]
  },
  {
   "cell_type": "markdown",
   "id": "e58a7abe",
   "metadata": {},
   "source": [
    "# KESIMPULAN"
   ]
  },
  {
   "cell_type": "markdown",
   "id": "8bc60d01",
   "metadata": {},
   "source": [
    "1. Dengan setiap penambahan jarak (distance), harga (price) bertambah dengan kelipatan 2.7957\n",
    "2. Dengan setiap penambahan surge_multiplier, harga (price) bertambah dengan kelipatan 18.3234\n",
    "3. Type yang paling mahal adalah Lux Black XL\t\n",
    "4. Type yang paling murah adalah UberPool\n",
    "5. Harga (price) tidak tergantung dengan weather, start dan drop off lokasi bahkan waktu (time)\n",
    "6. Harga (price) hanya tergantung dengan jarak dan type kendaraan."
   ]
  }
 ],
 "metadata": {
  "kernelspec": {
   "display_name": "Python 3",
   "language": "python",
   "name": "python3"
  },
  "language_info": {
   "codemirror_mode": {
    "name": "ipython",
    "version": 3
   },
   "file_extension": ".py",
   "mimetype": "text/x-python",
   "name": "python",
   "nbconvert_exporter": "python",
   "pygments_lexer": "ipython3",
   "version": "3.8.8"
  }
 },
 "nbformat": 4,
 "nbformat_minor": 5
}
